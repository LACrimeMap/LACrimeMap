{
 "cells": [
  {
   "cell_type": "markdown",
   "metadata": {},
   "source": [
    "# ETL_EDA    \n",
    "This file records the process of acquiring raw data, traforming them, and loading them into a MongoDB. The data are store (almost) in their raw form."
   ]
  },
  {
   "cell_type": "markdown",
   "metadata": {},
   "source": [
    "## 1. Raw Data from LAPD     \n",
    "The [dataset](https://data.lacity.org/A-Safe-City/Arrest-Data-from-2010-to-Present/yru6-6re4) is a continuously updated file in csv format. It contains City of Los Angeles arrest data from 2010 to present. It can be retrieved simply by making requests without parameters. For more complicated API call, you may need to add query parameters."
   ]
  },
  {
   "cell_type": "code",
   "execution_count": 25,
   "metadata": {},
   "outputs": [
    {
     "name": "stderr",
     "output_type": "stream",
     "text": [
      "WARNING:root:Requests made without an app_token will be subject to strict throttling limits.\n"
     ]
    },
    {
     "name": "stdout",
     "output_type": "stream",
     "text": [
      "[{'rpt_id': '5819970', 'arst_date': '2019-12-11T00:00:00.000', 'time': '0550', 'area': '18', 'area_desc': 'Southeast', 'rd': '1822', 'age': '27', 'sex_cd': 'M', 'descent_cd': 'B', 'chrg_grp_cd': '08', 'grp_description': 'Other Assaults', 'arst_typ_cd': 'F', 'charge': '69PC', 'chrg_desc': 'OBSTRUCT/RESIST EXECUTIVE OFFICER', 'location': '10300 S  FIGUEROA                     ST', 'location_1': {'latitude': '33.9428', 'longitude': '-118.2826', 'human_address': '{\"address\": \"\", \"city\": \"\", \"state\": \"\", \"zip\": \"\"}'}}, {'rpt_id': '5820637', 'arst_date': '2019-12-11T00:00:00.000', 'time': '2100', 'area': '14', 'area_desc': 'Pacific', 'rd': '1415', 'age': '42', 'sex_cd': 'M', 'descent_cd': 'W', 'chrg_grp_cd': '22', 'grp_description': 'Driving Under Influence', 'arst_typ_cd': 'M', 'charge': '23152(A)VC', 'chrg_desc': 'DRUNK DRIVING ALCOHOL/DRUGS', 'location': 'LINCOLN', 'crsst': 'PALMS', 'location_1': {'latitude': '33.9972', 'longitude': '-118.4592', 'human_address': '{\"address\": \"\", \"city\": \"\", \"state\": \"\", \"zip\": \"\"}'}}]\n",
      "...\n",
      "[{'rpt_id': '5822376', 'arst_date': '2019-12-14T00:00:00.000', 'time': '0020', 'area': '12', 'area_desc': '77th Street', 'rd': '1249', 'age': '48', 'sex_cd': 'M', 'descent_cd': 'F', 'chrg_grp_cd': '29', 'arst_typ_cd': 'M', 'charge': 'SMMC', 'chrg_desc': 'SANTA MONICA MUNICIPAL CODE', 'location': '69TH                         ST', 'crsst': 'DENVER', 'location_1': {'latitude': '33.9774', 'longitude': '-118.2838', 'human_address': '{\"address\": \"\", \"city\": \"\", \"state\": \"\", \"zip\": \"\"}'}}, {'rpt_id': '5822341', 'arst_date': '2019-12-14T00:00:00.000', 'time': '0036', 'area': '21', 'area_desc': 'Topanga', 'rd': '2187', 'age': '24', 'sex_cd': 'F', 'descent_cd': 'B', 'chrg_grp_cd': '22', 'grp_description': 'Driving Under Influence', 'arst_typ_cd': 'M', 'charge': '23152(A)VC', 'chrg_desc': 'DRUNK DRIVING ALCOHOL/DRUGS', 'location': 'WOODLAKE                     AV', 'crsst': 'VENTURA                      FY', 'location_1': {'latitude': '34.1635', 'longitude': '-118.5977', 'human_address': '{\"address\": \"\", \"city\": \"\", \"state\": \"\", \"zip\": \"\"}'}}]\n"
     ]
    }
   ],
   "source": [
    "import logging\n",
    "import pandas as pd\n",
    "from sodapy import Socrata\n",
    "import utils\n",
    "\n",
    "# download data\n",
    "CRIME_SOURCE = \"data.lacity.org\"\n",
    "client0 = Socrata(CRIME_SOURCE, None)\n",
    "results = client0.get(\"yru6-6re4\",where=\"arst_date > '2019-12-10T00:00:00.000'\",limit = 1000000) # wait to be confirmed\n",
    "print(results[:2])\n",
    "print('...')\n",
    "print(results[-2:])"
   ]
  },
  {
   "cell_type": "markdown",
   "metadata": {},
   "source": [
    "## 2. Raw Data to Documents/Dicts      \n",
    "Datetime conversion is made and age column is changed to numeric data type. Now the data can be easily converted to a list of dicts which is what we want for the MongoDB."
   ]
  },
  {
   "cell_type": "code",
   "execution_count": 5,
   "metadata": {},
   "outputs": [],
   "source": [
    "import logging\n",
    "import pandas as pd\n",
    "from sodapy import Socrata\n",
    "import utils\n",
    "CRIME_SOURCE = \"data.lacity.org\"\n",
    "DOWNLOAD_PERIOD = 15         # second\n",
    "logger = logging.Logger(__name__)\n",
    "utils.setup_logger(logger, 'data.log')\n",
    "\n",
    "\n",
    "def download_crime(url=CRIME_SOURCE, start_date = '2019-12-08T00:00:00.000'):\n",
    "    \"\"\"Returns records from `CRIME_SOURCE` that includes crime and arrestee information.\n",
    "    \"\"\"\n",
    "    client = Socrata(url, None)\n",
    "    results = client.get(\"yru6-6re4\",where=f\"arst_date >= '{start_date}'\", limit = 10000) # wait to be confirmed\n",
    "    return results"
   ]
  },
  {
   "cell_type": "code",
   "execution_count": 26,
   "metadata": {},
   "outputs": [
    {
     "data": {
      "text/html": [
       "<div>\n",
       "<style scoped>\n",
       "    .dataframe tbody tr th:only-of-type {\n",
       "        vertical-align: middle;\n",
       "    }\n",
       "\n",
       "    .dataframe tbody tr th {\n",
       "        vertical-align: top;\n",
       "    }\n",
       "\n",
       "    .dataframe thead th {\n",
       "        text-align: right;\n",
       "    }\n",
       "</style>\n",
       "<table border=\"1\" class=\"dataframe\">\n",
       "  <thead>\n",
       "    <tr style=\"text-align: right;\">\n",
       "      <th></th>\n",
       "      <th>rpt_id</th>\n",
       "      <th>arst_date</th>\n",
       "      <th>time</th>\n",
       "      <th>area</th>\n",
       "      <th>area_desc</th>\n",
       "      <th>rd</th>\n",
       "      <th>age</th>\n",
       "      <th>sex_cd</th>\n",
       "      <th>descent_cd</th>\n",
       "      <th>chrg_grp_cd</th>\n",
       "      <th>grp_description</th>\n",
       "      <th>arst_typ_cd</th>\n",
       "      <th>charge</th>\n",
       "      <th>chrg_desc</th>\n",
       "      <th>location</th>\n",
       "      <th>location_1</th>\n",
       "      <th>crsst</th>\n",
       "    </tr>\n",
       "  </thead>\n",
       "  <tbody>\n",
       "    <tr>\n",
       "      <th>0</th>\n",
       "      <td>5819970</td>\n",
       "      <td>2019-12-11</td>\n",
       "      <td>0550</td>\n",
       "      <td>18</td>\n",
       "      <td>Southeast</td>\n",
       "      <td>1822</td>\n",
       "      <td>27</td>\n",
       "      <td>M</td>\n",
       "      <td>B</td>\n",
       "      <td>08</td>\n",
       "      <td>Other Assaults</td>\n",
       "      <td>F</td>\n",
       "      <td>69PC</td>\n",
       "      <td>OBSTRUCT/RESIST EXECUTIVE OFFICER</td>\n",
       "      <td>10300 S  FIGUEROA                     ST</td>\n",
       "      <td>{'latitude': '33.9428', 'longitude': '-118.282...</td>\n",
       "      <td>NaN</td>\n",
       "    </tr>\n",
       "    <tr>\n",
       "      <th>1</th>\n",
       "      <td>5820637</td>\n",
       "      <td>2019-12-11</td>\n",
       "      <td>2100</td>\n",
       "      <td>14</td>\n",
       "      <td>Pacific</td>\n",
       "      <td>1415</td>\n",
       "      <td>42</td>\n",
       "      <td>M</td>\n",
       "      <td>W</td>\n",
       "      <td>22</td>\n",
       "      <td>Driving Under Influence</td>\n",
       "      <td>M</td>\n",
       "      <td>23152(A)VC</td>\n",
       "      <td>DRUNK DRIVING ALCOHOL/DRUGS</td>\n",
       "      <td>LINCOLN</td>\n",
       "      <td>{'latitude': '33.9972', 'longitude': '-118.459...</td>\n",
       "      <td>PALMS</td>\n",
       "    </tr>\n",
       "    <tr>\n",
       "      <th>2</th>\n",
       "      <td>5820507</td>\n",
       "      <td>2019-12-11</td>\n",
       "      <td>1920</td>\n",
       "      <td>03</td>\n",
       "      <td>Southwest</td>\n",
       "      <td>0311</td>\n",
       "      <td>29</td>\n",
       "      <td>M</td>\n",
       "      <td>H</td>\n",
       "      <td>08</td>\n",
       "      <td>Other Assaults</td>\n",
       "      <td>M</td>\n",
       "      <td>243(E)(1)PC</td>\n",
       "      <td>BATT EX-SPOUSE/FIANCEE/PERSN W/DATING REL</td>\n",
       "      <td>5500    CARLIN                       ST</td>\n",
       "      <td>{'latitude': '34.031', 'longitude': '-118.3632...</td>\n",
       "      <td>NaN</td>\n",
       "    </tr>\n",
       "    <tr>\n",
       "      <th>3</th>\n",
       "      <td>5820531</td>\n",
       "      <td>2019-12-11</td>\n",
       "      <td>2145</td>\n",
       "      <td>16</td>\n",
       "      <td>Foothill</td>\n",
       "      <td>1684</td>\n",
       "      <td>53</td>\n",
       "      <td>M</td>\n",
       "      <td>H</td>\n",
       "      <td>04</td>\n",
       "      <td>Aggravated Assault</td>\n",
       "      <td>F</td>\n",
       "      <td>245(A)(1)PC</td>\n",
       "      <td>ADW, NOT FIREARM, W/GBI</td>\n",
       "      <td>11700    SATICOY                      ST</td>\n",
       "      <td>{'latitude': '34.2166', 'longitude': '-118.391...</td>\n",
       "      <td>NaN</td>\n",
       "    </tr>\n",
       "    <tr>\n",
       "      <th>4</th>\n",
       "      <td>190921205</td>\n",
       "      <td>2019-12-11</td>\n",
       "      <td>1810</td>\n",
       "      <td>09</td>\n",
       "      <td>Van Nuys</td>\n",
       "      <td>0901</td>\n",
       "      <td>21</td>\n",
       "      <td>M</td>\n",
       "      <td>H</td>\n",
       "      <td>13</td>\n",
       "      <td>Prostitution/Allied</td>\n",
       "      <td>M</td>\n",
       "      <td>647(B)(2)PC</td>\n",
       "      <td>ENGAGE/SOLICIT SEX FOR MONEY/ETC</td>\n",
       "      <td>WYANDOTTE</td>\n",
       "      <td>{'latitude': '34.203', 'longitude': '-118.4662...</td>\n",
       "      <td>SEPULVEDA</td>\n",
       "    </tr>\n",
       "  </tbody>\n",
       "</table>\n",
       "</div>"
      ],
      "text/plain": [
       "      rpt_id  arst_date  time area  area_desc    rd  age sex_cd descent_cd  \\\n",
       "0    5819970 2019-12-11  0550   18  Southeast  1822   27      M          B   \n",
       "1    5820637 2019-12-11  2100   14    Pacific  1415   42      M          W   \n",
       "2    5820507 2019-12-11  1920   03  Southwest  0311   29      M          H   \n",
       "3    5820531 2019-12-11  2145   16   Foothill  1684   53      M          H   \n",
       "4  190921205 2019-12-11  1810   09   Van Nuys  0901   21      M          H   \n",
       "\n",
       "  chrg_grp_cd          grp_description arst_typ_cd       charge  \\\n",
       "0          08           Other Assaults           F         69PC   \n",
       "1          22  Driving Under Influence           M   23152(A)VC   \n",
       "2          08           Other Assaults           M  243(E)(1)PC   \n",
       "3          04       Aggravated Assault           F  245(A)(1)PC   \n",
       "4          13      Prostitution/Allied           M  647(B)(2)PC   \n",
       "\n",
       "                                   chrg_desc  \\\n",
       "0          OBSTRUCT/RESIST EXECUTIVE OFFICER   \n",
       "1                DRUNK DRIVING ALCOHOL/DRUGS   \n",
       "2  BATT EX-SPOUSE/FIANCEE/PERSN W/DATING REL   \n",
       "3                    ADW, NOT FIREARM, W/GBI   \n",
       "4           ENGAGE/SOLICIT SEX FOR MONEY/ETC   \n",
       "\n",
       "                                   location  \\\n",
       "0  10300 S  FIGUEROA                     ST   \n",
       "1                                   LINCOLN   \n",
       "2   5500    CARLIN                       ST   \n",
       "3  11700    SATICOY                      ST   \n",
       "4                                 WYANDOTTE   \n",
       "\n",
       "                                          location_1      crsst  \n",
       "0  {'latitude': '33.9428', 'longitude': '-118.282...        NaN  \n",
       "1  {'latitude': '33.9972', 'longitude': '-118.459...      PALMS  \n",
       "2  {'latitude': '34.031', 'longitude': '-118.3632...        NaN  \n",
       "3  {'latitude': '34.2166', 'longitude': '-118.391...        NaN  \n",
       "4  {'latitude': '34.203', 'longitude': '-118.4662...  SEPULVEDA  "
      ]
     },
     "execution_count": 26,
     "metadata": {},
     "output_type": "execute_result"
    }
   ],
   "source": [
    "from datetime import datetime\n",
    "\n",
    "df = pd.DataFrame.from_records(results)\n",
    "df['arst_date'] = pd.to_datetime(df['arst_date'])\n",
    "# df['hour'] = df['time'].apply(lambda x: datetime.strptime(x, '%H%M').time().hour)\n",
    "#df['month'] = df['arst_date'].apply(lambda x: datetime.strptime(x, '%Y%m').time())\n",
    "df['age'] = pd.to_numeric(df['age'])\n",
    "df.head()"
   ]
  },
  {
   "cell_type": "markdown",
   "metadata": {},
   "source": [
    "## 3. Upsert MongoDB         \n",
    "To avoid duplicate data entries between each run, the de-duplication mechanism makes sure that only a new record with a different report_id (rpt_id) will be inserted to the database. "
   ]
  },
  {
   "cell_type": "code",
   "execution_count": 30,
   "metadata": {},
   "outputs": [],
   "source": [
    "import pymongo\n",
    "client = pymongo.MongoClient()"
   ]
  },
  {
   "cell_type": "code",
   "execution_count": 33,
   "metadata": {
    "scrolled": true
   },
   "outputs": [
    {
     "name": "stdout",
     "output_type": "stream",
     "text": [
      "rows=495, update=495, insert=0\n"
     ]
    }
   ],
   "source": [
    "#import time\n",
    "db = client.get_database(\"crime\")\n",
    "collection = db.get_collection(\"crime\")\n",
    "update_count = 0\n",
    "count = 0\n",
    "for record in df.to_dict('records'):\n",
    "    #start = time.time()\n",
    "    result = collection.replace_one(\n",
    "        filter = {'rpt_id': record['rpt_id']},    # locate the document if exists\n",
    "        replacement = record,                         # latest document\n",
    "        upsert=True)\n",
    "    if result.matched_count > 0:\n",
    "        update_count += 1\n",
    "print(f\"rows={df.shape[0]}, update={update_count}, \"\n",
    "      f\"insert={df.shape[0]-update_count}\")"
   ]
  }
 ],
 "metadata": {
  "kernelspec": {
   "display_name": "Python 3",
   "language": "python",
   "name": "python3"
  },
  "language_info": {
   "codemirror_mode": {
    "name": "ipython",
    "version": 3
   },
   "file_extension": ".py",
   "mimetype": "text/x-python",
   "name": "python",
   "nbconvert_exporter": "python",
   "pygments_lexer": "ipython3",
   "version": "3.7.4"
  }
 },
 "nbformat": 4,
 "nbformat_minor": 2
}
