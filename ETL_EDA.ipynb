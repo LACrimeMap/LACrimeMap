{
 "cells": [
  {
   "cell_type": "markdown",
   "metadata": {},
   "source": [
    "# ETL_EDA    \n",
    "This file records the process of acquiring raw data, traforming them, and loading them into a MongoDB. The data are store (almost) in their raw form."
   ]
  },
  {
   "cell_type": "markdown",
   "metadata": {},
   "source": [
    "## 1. Raw Data from LAPD     \n",
    "The dataset is a continuously updated file in csv format. It contains City of Los Angeles arrest data from 2010 to present. It can be retrieved simply by making requests without parameters. For more complicated API call, you may need to add query parameters."
   ]
  },
  {
   "cell_type": "code",
   "execution_count": 1,
   "metadata": {},
   "outputs": [
    {
     "name": "stderr",
     "output_type": "stream",
     "text": [
      "WARNING:root:Requests made without an app_token will be subject to strict throttling limits.\n"
     ]
    },
    {
     "name": "stdout",
     "output_type": "stream",
     "text": [
      "[{'rpt_id': '5811793', 'arst_date': '2019-12-01T00:00:00.000', 'time': '0311', 'area': '15', 'area_desc': 'N Hollywood', 'rd': '1565', 'age': '26', 'sex_cd': 'M', 'descent_cd': 'H', 'chrg_grp_cd': '22', 'grp_description': 'Driving Under Influence', 'arst_typ_cd': 'M', 'charge': '23152(A)VC', 'chrg_desc': 'DRUNK DRIVING ALCOHOL/DRUGS', 'location': 'VINELAND                     AV', 'crsst': 'HOLLYWOOD                    FY', 'location_1': {'latitude': '34.1468', 'longitude': '-118.3703', 'human_address': '{\"address\": \"\", \"city\": \"\", \"state\": \"\", \"zip\": \"\"}'}}, {'rpt_id': '5811921', 'arst_date': '2019-12-01T00:00:00.000', 'time': '0300', 'area': '13', 'area_desc': 'Newton', 'rd': '1307', 'age': '21', 'sex_cd': 'M', 'descent_cd': 'B', 'chrg_grp_cd': '04', 'grp_description': 'Aggravated Assault', 'arst_typ_cd': 'F', 'charge': '245(D)(1)PC', 'chrg_desc': 'ASSAULT W/FIREARM ON PO OR FIREMAN', 'location': '700    CROCKER                      ST', 'location_1': {'latitude': '34.0401', 'longitude': '-118.2459', 'human_address': '{\"address\": \"\", \"city\": \"\", \"state\": \"\", \"zip\": \"\"}'}}]\n",
      "...\n",
      "[{'rpt_id': '5816871', 'arst_date': '2019-12-07T00:00:00.000', 'time': '0650', 'area': '01', 'area_desc': 'Central', 'rd': '0119', 'age': '31', 'sex_cd': 'M', 'descent_cd': 'B', 'chrg_grp_cd': '16', 'grp_description': 'Narcotic Drug Laws', 'arst_typ_cd': 'M', 'charge': '11377(A)HS', 'chrg_desc': 'POSSESSION CONTROLLED SUBSTANCE', 'location': '800 N  ALAMEDA                      ST', 'location_1': {'latitude': '34.0563', 'longitude': '-118.2374', 'human_address': '{\"address\": \"\", \"city\": \"\", \"state\": \"\", \"zip\": \"\"}'}}, {'rpt_id': '5816829', 'arst_date': '2019-12-07T00:00:00.000', 'time': '0354', 'area': '01', 'area_desc': 'Central', 'rd': '0135', 'age': '55', 'sex_cd': 'F', 'descent_cd': 'B', 'chrg_grp_cd': '22', 'grp_description': 'Driving Under Influence', 'arst_typ_cd': 'M', 'charge': '23152(A)VC', 'chrg_desc': 'DRUNK DRIVING ALCOHOL/DRUGS', 'location': '10                           FY', 'crsst': '51ST                         ST', 'location_1': {'latitude': '34.0495', 'longitude': '-118.2458', 'human_address': '{\"address\": \"\", \"city\": \"\", \"state\": \"\", \"zip\": \"\"}'}}]\n"
     ]
    }
   ],
   "source": [
    "import logging\n",
    "import pandas as pd\n",
    "from sodapy import Socrata\n",
    "import utils\n",
    "\n",
    "# download data\n",
    "CRIME_SOURCE = \"data.lacity.org\"\n",
    "client0 = Socrata(CRIME_SOURCE, None)\n",
    "results = client0.get(\"yru6-6re4\",where=\"arst_date > '2019-11-30T00:00:00.000'\") # wait to be confirmed\n",
    "print(results[:2])\n",
    "print('...')\n",
    "print(results[-2:])"
   ]
  },
  {
   "cell_type": "markdown",
   "metadata": {},
   "source": [
    "## 2. Raw Data to Documents/Dicts      \n",
    "Datetime conversion is made and age column is changed to numeric data type. Now the data can be easily converted to a list of dicts which is what we want for the MongoDB."
   ]
  },
  {
   "cell_type": "code",
   "execution_count": 2,
   "metadata": {},
   "outputs": [
    {
     "data": {
      "text/html": [
       "<div>\n",
       "<style scoped>\n",
       "    .dataframe tbody tr th:only-of-type {\n",
       "        vertical-align: middle;\n",
       "    }\n",
       "\n",
       "    .dataframe tbody tr th {\n",
       "        vertical-align: top;\n",
       "    }\n",
       "\n",
       "    .dataframe thead th {\n",
       "        text-align: right;\n",
       "    }\n",
       "</style>\n",
       "<table border=\"1\" class=\"dataframe\">\n",
       "  <thead>\n",
       "    <tr style=\"text-align: right;\">\n",
       "      <th></th>\n",
       "      <th>rpt_id</th>\n",
       "      <th>arst_date</th>\n",
       "      <th>time</th>\n",
       "      <th>area</th>\n",
       "      <th>area_desc</th>\n",
       "      <th>rd</th>\n",
       "      <th>age</th>\n",
       "      <th>sex_cd</th>\n",
       "      <th>descent_cd</th>\n",
       "      <th>chrg_grp_cd</th>\n",
       "      <th>grp_description</th>\n",
       "      <th>arst_typ_cd</th>\n",
       "      <th>charge</th>\n",
       "      <th>chrg_desc</th>\n",
       "      <th>location</th>\n",
       "      <th>crsst</th>\n",
       "      <th>location_1</th>\n",
       "      <th>hour</th>\n",
       "    </tr>\n",
       "  </thead>\n",
       "  <tbody>\n",
       "    <tr>\n",
       "      <th>0</th>\n",
       "      <td>5811793</td>\n",
       "      <td>2019-12-01</td>\n",
       "      <td>0311</td>\n",
       "      <td>15</td>\n",
       "      <td>N Hollywood</td>\n",
       "      <td>1565</td>\n",
       "      <td>26</td>\n",
       "      <td>M</td>\n",
       "      <td>H</td>\n",
       "      <td>22</td>\n",
       "      <td>Driving Under Influence</td>\n",
       "      <td>M</td>\n",
       "      <td>23152(A)VC</td>\n",
       "      <td>DRUNK DRIVING ALCOHOL/DRUGS</td>\n",
       "      <td>VINELAND                     AV</td>\n",
       "      <td>HOLLYWOOD                    FY</td>\n",
       "      <td>{'latitude': '34.1468', 'longitude': '-118.370...</td>\n",
       "      <td>3</td>\n",
       "    </tr>\n",
       "    <tr>\n",
       "      <th>1</th>\n",
       "      <td>5811921</td>\n",
       "      <td>2019-12-01</td>\n",
       "      <td>0300</td>\n",
       "      <td>13</td>\n",
       "      <td>Newton</td>\n",
       "      <td>1307</td>\n",
       "      <td>21</td>\n",
       "      <td>M</td>\n",
       "      <td>B</td>\n",
       "      <td>04</td>\n",
       "      <td>Aggravated Assault</td>\n",
       "      <td>F</td>\n",
       "      <td>245(D)(1)PC</td>\n",
       "      <td>ASSAULT W/FIREARM ON PO OR FIREMAN</td>\n",
       "      <td>700    CROCKER                      ST</td>\n",
       "      <td>NaN</td>\n",
       "      <td>{'latitude': '34.0401', 'longitude': '-118.245...</td>\n",
       "      <td>3</td>\n",
       "    </tr>\n",
       "    <tr>\n",
       "      <th>2</th>\n",
       "      <td>5812227</td>\n",
       "      <td>2019-12-01</td>\n",
       "      <td>1540</td>\n",
       "      <td>13</td>\n",
       "      <td>Newton</td>\n",
       "      <td>1362</td>\n",
       "      <td>28</td>\n",
       "      <td>M</td>\n",
       "      <td>B</td>\n",
       "      <td>05</td>\n",
       "      <td>Burglary</td>\n",
       "      <td>F</td>\n",
       "      <td>459PC</td>\n",
       "      <td>BURGLARY</td>\n",
       "      <td>400 E  49TH                         ST</td>\n",
       "      <td>NaN</td>\n",
       "      <td>{'latitude': '33.9988', 'longitude': '-118.269...</td>\n",
       "      <td>15</td>\n",
       "    </tr>\n",
       "    <tr>\n",
       "      <th>3</th>\n",
       "      <td>190920652</td>\n",
       "      <td>2019-12-01</td>\n",
       "      <td>0225</td>\n",
       "      <td>09</td>\n",
       "      <td>Van Nuys</td>\n",
       "      <td>0914</td>\n",
       "      <td>45</td>\n",
       "      <td>M</td>\n",
       "      <td>H</td>\n",
       "      <td>13</td>\n",
       "      <td>Prostitution/Allied</td>\n",
       "      <td>M</td>\n",
       "      <td>647(B)(2)PC</td>\n",
       "      <td>ENGAGE/SOLICIT SEX FOR MONEY/ETC</td>\n",
       "      <td>SEPULVEDA                    BL</td>\n",
       "      <td>HART                         ST</td>\n",
       "      <td>{'latitude': '34.1976', 'longitude': '-118.466...</td>\n",
       "      <td>2</td>\n",
       "    </tr>\n",
       "    <tr>\n",
       "      <th>4</th>\n",
       "      <td>5812327</td>\n",
       "      <td>2019-12-01</td>\n",
       "      <td>2015</td>\n",
       "      <td>06</td>\n",
       "      <td>Hollywood</td>\n",
       "      <td>0646</td>\n",
       "      <td>39</td>\n",
       "      <td>M</td>\n",
       "      <td>B</td>\n",
       "      <td>03</td>\n",
       "      <td>Robbery</td>\n",
       "      <td>F</td>\n",
       "      <td>211PC</td>\n",
       "      <td>ROBBERY</td>\n",
       "      <td>COSMO</td>\n",
       "      <td>HOLLYWOOD                    BL</td>\n",
       "      <td>{'latitude': '34.1016', 'longitude': '-118.328...</td>\n",
       "      <td>20</td>\n",
       "    </tr>\n",
       "  </tbody>\n",
       "</table>\n",
       "</div>"
      ],
      "text/plain": [
       "      rpt_id  arst_date  time area    area_desc    rd  age sex_cd descent_cd  \\\n",
       "0    5811793 2019-12-01  0311   15  N Hollywood  1565   26      M          H   \n",
       "1    5811921 2019-12-01  0300   13       Newton  1307   21      M          B   \n",
       "2    5812227 2019-12-01  1540   13       Newton  1362   28      M          B   \n",
       "3  190920652 2019-12-01  0225   09     Van Nuys  0914   45      M          H   \n",
       "4    5812327 2019-12-01  2015   06    Hollywood  0646   39      M          B   \n",
       "\n",
       "  chrg_grp_cd          grp_description arst_typ_cd       charge  \\\n",
       "0          22  Driving Under Influence           M   23152(A)VC   \n",
       "1          04       Aggravated Assault           F  245(D)(1)PC   \n",
       "2          05                 Burglary           F        459PC   \n",
       "3          13      Prostitution/Allied           M  647(B)(2)PC   \n",
       "4          03                  Robbery           F        211PC   \n",
       "\n",
       "                            chrg_desc                                location  \\\n",
       "0         DRUNK DRIVING ALCOHOL/DRUGS         VINELAND                     AV   \n",
       "1  ASSAULT W/FIREARM ON PO OR FIREMAN  700    CROCKER                      ST   \n",
       "2                            BURGLARY  400 E  49TH                         ST   \n",
       "3    ENGAGE/SOLICIT SEX FOR MONEY/ETC         SEPULVEDA                    BL   \n",
       "4                             ROBBERY                                   COSMO   \n",
       "\n",
       "                             crsst  \\\n",
       "0  HOLLYWOOD                    FY   \n",
       "1                              NaN   \n",
       "2                              NaN   \n",
       "3  HART                         ST   \n",
       "4  HOLLYWOOD                    BL   \n",
       "\n",
       "                                          location_1  hour  \n",
       "0  {'latitude': '34.1468', 'longitude': '-118.370...     3  \n",
       "1  {'latitude': '34.0401', 'longitude': '-118.245...     3  \n",
       "2  {'latitude': '33.9988', 'longitude': '-118.269...    15  \n",
       "3  {'latitude': '34.1976', 'longitude': '-118.466...     2  \n",
       "4  {'latitude': '34.1016', 'longitude': '-118.328...    20  "
      ]
     },
     "execution_count": 2,
     "metadata": {},
     "output_type": "execute_result"
    }
   ],
   "source": [
    "from datetime import datetime\n",
    "\n",
    "df = pd.DataFrame.from_records(results)\n",
    "df['arst_date'] = pd.to_datetime(df['arst_date'])\n",
    "df['hour'] = df['time'].apply(lambda x: datetime.strptime(x, '%H%M').time().hour)\n",
    "df['age'] = pd.to_numeric(df['age'])\n",
    "\n",
    "df.head()"
   ]
  },
  {
   "cell_type": "markdown",
   "metadata": {},
   "source": [
    "## 3. Upsert MongoDB         \n",
    "To avoid duplicate data entries between each run, the de-duplication mechanism makes sure that only a new record with a different report_id (rpt_id) will be inserted to the database. "
   ]
  },
  {
   "cell_type": "code",
   "execution_count": 3,
   "metadata": {},
   "outputs": [
    {
     "name": "stdout",
     "output_type": "stream",
     "text": [
      "rows=990, update=990, insert=0\n"
     ]
    }
   ],
   "source": [
    "import pymongo\n",
    "client = pymongo.MongoClient()\n",
    "db = client.get_database(\"crime\")\n",
    "collection = db.get_collection(\"crime\")\n",
    "update_count = 0\n",
    "for record in df.to_dict('records'):\n",
    "    result = collection.replace_one(\n",
    "        filter = {'rpt_id': record['rpt_id']},    # locate the document if exists\n",
    "        replacement = record,                         # latest document\n",
    "        upsert=True)\n",
    "    if result.matched_count > 0:\n",
    "        update_count += 1\n",
    "print(f\"rows={df.shape[0]}, update={update_count}, \"\n",
    "      f\"insert={df.shape[0]-update_count}\")"
   ]
  }
 ],
 "metadata": {
  "kernelspec": {
   "display_name": "Python 3",
   "language": "python",
   "name": "python3"
  },
  "language_info": {
   "codemirror_mode": {
    "name": "ipython",
    "version": 3
   },
   "file_extension": ".py",
   "mimetype": "text/x-python",
   "name": "python",
   "nbconvert_exporter": "python",
   "pygments_lexer": "ipython3",
   "version": "3.7.4"
  }
 },
 "nbformat": 4,
 "nbformat_minor": 2
}
