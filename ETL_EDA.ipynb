{
 "cells": [
  {
   "cell_type": "code",
   "execution_count": 8,
   "metadata": {},
   "outputs": [
    {
     "name": "stderr",
     "output_type": "stream",
     "text": [
      "WARNING:root:Requests made without an app_token will be subject to strict throttling limits.\n"
     ]
    }
   ],
   "source": [
    "import logging\n",
    "import pandas as pd\n",
    "from sodapy import Socrata\n",
    "from datetime import datetime\n",
    "import pymongo\n",
    "import expiringdict\n",
    "import utils\n",
    "\n",
    "# download data\n",
    "client0 = Socrata(\"data.lacity.org\", None)\n",
    "results = client0.get(\"yru6-6re4\",where=\"arst_date > '2019-11-30T00:00:00.000'\") # wait to be confirmed\n",
    "df = pd.DataFrame.from_records(results)\n",
    "df['arst_date'] = pd.to_datetime(df['arst_date'])\n",
    "#df['temp'] = df['time'].apply(lambda x: datetime.strptime(x, '%H%M').time())\n",
    "df['age'] = pd.to_numeric(df['age'])\n",
    "\n",
    "# connect with mongodb\n",
    "client = pymongo.MongoClient()\n",
    "logger = logging.Logger(__name__)\n",
    "utils.setup_logger(logger, 'db.log')\n",
    "RESULT_CACHE_EXPIRATION = 15 \n",
    "\n",
    "def upsert_crime(df):\n",
    "    \"\"\"\n",
    "    Update MongoDB database `energy` and collection `energy` with the given `DataFrame`.\n",
    "    \"\"\"\n",
    "    db = client.get_database(\"crime\")\n",
    "    collection = db.get_collection(\"crime\")\n",
    "    update_count = 0\n",
    "    for record in df.to_dict('records'):\n",
    "        result = collection.replace_one(\n",
    "            filter = {'rpt_id': record['rpt_id']},    # locate the document if exists\n",
    "            replacement = record,                         # latest document\n",
    "            upsert=True)\n",
    "        if result.matched_count > 0:\n",
    "            update_count += 1\n",
    "    logger.info(\"rows={}, update={}, \".format(df.shape[0], update_count) +\n",
    "                \"insert={}\".format(df.shape[0]-update_count))"
   ]
  },
  {
   "cell_type": "code",
   "execution_count": 24,
   "metadata": {},
   "outputs": [
    {
     "name": "stderr",
     "output_type": "stream",
     "text": [
      "WARNING:root:Requests made without an app_token will be subject to strict throttling limits.\n"
     ]
    },
    {
     "name": "stdout",
     "output_type": "stream",
     "text": [
      "2019-12-13 04:33:56,877 [upsert_crime]: rows=990, update=990, insert=0\n"
     ]
    },
    {
     "name": "stderr",
     "output_type": "stream",
     "text": [
      "WARNING:root:Requests made without an app_token will be subject to strict throttling limits.\n"
     ]
    },
    {
     "name": "stdout",
     "output_type": "stream",
     "text": [
      "2019-12-13 04:34:13,681 [upsert_crime]: rows=990, update=990, insert=0\n"
     ]
    },
    {
     "name": "stderr",
     "output_type": "stream",
     "text": [
      "WARNING:root:Requests made without an app_token will be subject to strict throttling limits.\n"
     ]
    },
    {
     "name": "stdout",
     "output_type": "stream",
     "text": [
      "2019-12-13 04:34:30,459 [upsert_crime]: rows=990, update=990, insert=0\n"
     ]
    },
    {
     "name": "stderr",
     "output_type": "stream",
     "text": [
      "WARNING:root:Requests made without an app_token will be subject to strict throttling limits.\n"
     ]
    },
    {
     "name": "stdout",
     "output_type": "stream",
     "text": [
      "2019-12-13 04:34:47,177 [upsert_crime]: rows=990, update=990, insert=0\n"
     ]
    },
    {
     "name": "stderr",
     "output_type": "stream",
     "text": [
      "WARNING:root:Requests made without an app_token will be subject to strict throttling limits.\n"
     ]
    },
    {
     "name": "stdout",
     "output_type": "stream",
     "text": [
      "2019-12-13 04:35:04,248 [upsert_crime]: rows=990, update=990, insert=0\n"
     ]
    },
    {
     "name": "stderr",
     "output_type": "stream",
     "text": [
      "WARNING:root:Requests made without an app_token will be subject to strict throttling limits.\n"
     ]
    },
    {
     "name": "stdout",
     "output_type": "stream",
     "text": [
      "2019-12-13 04:35:21,001 [upsert_crime]: rows=990, update=990, insert=0\n"
     ]
    },
    {
     "name": "stderr",
     "output_type": "stream",
     "text": [
      "WARNING:root:Requests made without an app_token will be subject to strict throttling limits.\n"
     ]
    },
    {
     "name": "stdout",
     "output_type": "stream",
     "text": [
      "2019-12-13 04:35:37,743 [upsert_crime]: rows=990, update=990, insert=0\n"
     ]
    },
    {
     "name": "stderr",
     "output_type": "stream",
     "text": [
      "WARNING:root:Requests made without an app_token will be subject to strict throttling limits.\n"
     ]
    },
    {
     "name": "stdout",
     "output_type": "stream",
     "text": [
      "2019-12-13 04:35:54,585 [upsert_crime]: rows=990, update=990, insert=0\n"
     ]
    },
    {
     "ename": "KeyboardInterrupt",
     "evalue": "",
     "output_type": "error",
     "traceback": [
      "\u001b[0;31m---------------------------------------------------------------------------\u001b[0m",
      "\u001b[0;31mKeyboardInterrupt\u001b[0m                         Traceback (most recent call last)",
      "\u001b[0;32m<ipython-input-24-c8c1578e0df9>\u001b[0m in \u001b[0;36m<module>\u001b[0;34m\u001b[0m\n\u001b[1;32m     51\u001b[0m \u001b[0;34m\u001b[0m\u001b[0m\n\u001b[1;32m     52\u001b[0m \u001b[0;32mif\u001b[0m \u001b[0m__name__\u001b[0m \u001b[0;34m==\u001b[0m \u001b[0;34m'__main__'\u001b[0m\u001b[0;34m:\u001b[0m\u001b[0;34m\u001b[0m\u001b[0;34m\u001b[0m\u001b[0m\n\u001b[0;32m---> 53\u001b[0;31m     \u001b[0mmain_loop\u001b[0m\u001b[0;34m(\u001b[0m\u001b[0;34m)\u001b[0m\u001b[0;34m\u001b[0m\u001b[0;34m\u001b[0m\u001b[0m\n\u001b[0m",
      "\u001b[0;32m<ipython-input-24-c8c1578e0df9>\u001b[0m in \u001b[0;36mmain_loop\u001b[0;34m(timeout)\u001b[0m\n\u001b[1;32m     47\u001b[0m \u001b[0;34m\u001b[0m\u001b[0m\n\u001b[1;32m     48\u001b[0m     \u001b[0mscheduler\u001b[0m\u001b[0;34m.\u001b[0m\u001b[0menter\u001b[0m\u001b[0;34m(\u001b[0m\u001b[0;36m0\u001b[0m\u001b[0;34m,\u001b[0m \u001b[0;36m1\u001b[0m\u001b[0;34m,\u001b[0m \u001b[0m_worker\u001b[0m\u001b[0;34m)\u001b[0m              \u001b[0;31m# start the first event\u001b[0m\u001b[0;34m\u001b[0m\u001b[0;34m\u001b[0m\u001b[0m\n\u001b[0;32m---> 49\u001b[0;31m     \u001b[0mscheduler\u001b[0m\u001b[0;34m.\u001b[0m\u001b[0mrun\u001b[0m\u001b[0;34m(\u001b[0m\u001b[0mblocking\u001b[0m\u001b[0;34m=\u001b[0m\u001b[0;32mTrue\u001b[0m\u001b[0;34m)\u001b[0m\u001b[0;34m\u001b[0m\u001b[0;34m\u001b[0m\u001b[0m\n\u001b[0m\u001b[1;32m     50\u001b[0m \u001b[0;34m\u001b[0m\u001b[0m\n\u001b[1;32m     51\u001b[0m \u001b[0;34m\u001b[0m\u001b[0m\n",
      "\u001b[0;32m~/.pyenv/versions/3.7.4/lib/python3.7/sched.py\u001b[0m in \u001b[0;36mrun\u001b[0;34m(self, blocking)\u001b[0m\n\u001b[1;32m    147\u001b[0m                 \u001b[0;32mif\u001b[0m \u001b[0;32mnot\u001b[0m \u001b[0mblocking\u001b[0m\u001b[0;34m:\u001b[0m\u001b[0;34m\u001b[0m\u001b[0;34m\u001b[0m\u001b[0m\n\u001b[1;32m    148\u001b[0m                     \u001b[0;32mreturn\u001b[0m \u001b[0mtime\u001b[0m \u001b[0;34m-\u001b[0m \u001b[0mnow\u001b[0m\u001b[0;34m\u001b[0m\u001b[0;34m\u001b[0m\u001b[0m\n\u001b[0;32m--> 149\u001b[0;31m                 \u001b[0mdelayfunc\u001b[0m\u001b[0;34m(\u001b[0m\u001b[0mtime\u001b[0m \u001b[0;34m-\u001b[0m \u001b[0mnow\u001b[0m\u001b[0;34m)\u001b[0m\u001b[0;34m\u001b[0m\u001b[0;34m\u001b[0m\u001b[0m\n\u001b[0m\u001b[1;32m    150\u001b[0m             \u001b[0;32melse\u001b[0m\u001b[0;34m:\u001b[0m\u001b[0;34m\u001b[0m\u001b[0;34m\u001b[0m\u001b[0m\n\u001b[1;32m    151\u001b[0m                 \u001b[0maction\u001b[0m\u001b[0;34m(\u001b[0m\u001b[0;34m*\u001b[0m\u001b[0margument\u001b[0m\u001b[0;34m,\u001b[0m \u001b[0;34m**\u001b[0m\u001b[0mkwargs\u001b[0m\u001b[0;34m)\u001b[0m\u001b[0;34m\u001b[0m\u001b[0;34m\u001b[0m\u001b[0m\n",
      "\u001b[0;31mKeyboardInterrupt\u001b[0m: "
     ]
    }
   ],
   "source": [
    "import time\n",
    "import sched\n",
    "import pandas as pd\n",
    "import logging\n",
    "import utils\n",
    "from database import upsert_crime \n",
    "from sodapy import Socrata\n",
    "from datetime import datetime\n",
    "\n",
    "CRIME_SOURCE = \"data.lacity.org\"\n",
    "MAX_DOWNLOAD_ATTEMPT = 5\n",
    "DOWNLOAD_PERIOD = 15         # second\n",
    "logger = logging.Logger(__name__)\n",
    "utils.setup_logger(logger, 'data.log')\n",
    "\n",
    "\n",
    "def download_crime(url=CRIME_SOURCE, retries=MAX_DOWNLOAD_ATTEMPT):\n",
    "    \"\"\"Returns records from `CRIME_SOURCE` that includes crime and arrestee information.\n",
    "    \"\"\"\n",
    "    client = Socrata(url, None)\n",
    "    results = client.get(\"yru6-6re4\",where=\"arst_date > '2019-11-30T00:00:00.000'\") # wait to be confirmed\n",
    "    return results\n",
    "\n",
    "def convert_crime(results):\n",
    "    \"\"\"Converts `results` to `DataFrame`, removes empty lines and descriptions\n",
    "    \"\"\"\n",
    "    # use StringIO to convert string to a readable buffer\n",
    "    df = pd.DataFrame.from_records(results)\n",
    "    #df.dropna(inplace=True)             # drop rows with empty cells\n",
    "    return df\n",
    "\n",
    "\n",
    "def update_once():\n",
    "    results = download_crime()\n",
    "    df = convert_crime(results)\n",
    "    upsert_crime(df)\n",
    "    \n",
    "def main_loop(timeout=DOWNLOAD_PERIOD):\n",
    "    scheduler = sched.scheduler(time.time, time.sleep)\n",
    "\n",
    "    def _worker():\n",
    "        try:\n",
    "            update_once()\n",
    "        except Exception as e:\n",
    "            logger.warning(\"main loop worker ignores exception and continues: {}\".format(e))\n",
    "        scheduler.enter(timeout, 1, _worker)    # schedule the next event\n",
    "\n",
    "    scheduler.enter(0, 1, _worker)              # start the first event\n",
    "    scheduler.run(blocking=True)\n",
    "\n",
    "\n",
    "if __name__ == '__main__':\n",
    "    main_loop()"
   ]
  },
  {
   "cell_type": "code",
   "execution_count": null,
   "metadata": {},
   "outputs": [],
   "source": []
  }
 ],
 "metadata": {
  "kernelspec": {
   "display_name": "Python 3",
   "language": "python",
   "name": "python3"
  },
  "language_info": {
   "codemirror_mode": {
    "name": "ipython",
    "version": 3
   },
   "file_extension": ".py",
   "mimetype": "text/x-python",
   "name": "python",
   "nbconvert_exporter": "python",
   "pygments_lexer": "ipython3",
   "version": "3.7.4"
  }
 },
 "nbformat": 4,
 "nbformat_minor": 2
}
