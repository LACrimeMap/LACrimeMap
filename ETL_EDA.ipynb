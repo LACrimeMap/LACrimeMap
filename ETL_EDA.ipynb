{
 "cells": [
  {
   "cell_type": "markdown",
   "metadata": {},
   "source": [
    "# ETL_EDA    \n",
    "This file records the process of acquiring raw data, traforming them, and loading them into a MongoDB. The data are store (almost) in their raw form."
   ]
  },
  {
   "cell_type": "markdown",
   "metadata": {},
   "source": [
    "## 1. Raw Data from LAPD     \n",
    "The [dataset](https://data.lacity.org/A-Safe-City/Arrest-Data-from-2010-to-Present/yru6-6re4) is a continuously updated file in csv format. It contains City of Los Angeles arrest data from 2010 to present. It can be retrieved simply by making requests without parameters. For more complicated API call, you may need to add query parameters."
   ]
  },
  {
   "cell_type": "code",
   "execution_count": 9,
   "metadata": {},
   "outputs": [
    {
     "name": "stderr",
     "output_type": "stream",
     "text": [
      "WARNING:root:Requests made without an app_token will be subject to strict throttling limits.\n"
     ]
    },
    {
     "name": "stdout",
     "output_type": "stream",
     "text": [
      "[{'rpt_id': '5646788', 'arst_date': '2019-06-02T00:00:00.000', 'time': '0045', 'area': '06', 'area_desc': 'Hollywood', 'rd': '0646', 'age': '56', 'sex_cd': 'M', 'descent_cd': 'H', 'chrg_grp_cd': '24', 'grp_description': 'Miscellaneous Other Violations', 'arst_typ_cd': 'F', 'charge': '3455(B)1PC', 'chrg_desc': 'WARRANT-PETITION TO REVOKE COMMUNITY SUPVN', 'location': 'SUNSET', 'crsst': 'CHEROKEE', 'location_1': {'latitude': '34.098', 'longitude': '-118.3353', 'human_address': '{\"address\": \"\", \"city\": \"\", \"state\": \"\", \"zip\": \"\"}'}}, {'rpt_id': '5647286', 'arst_date': '2019-06-02T00:00:00.000', 'time': '2010', 'area': '01', 'area_desc': 'Central', 'rd': '0159', 'age': '22', 'sex_cd': 'M', 'descent_cd': 'H', 'chrg_grp_cd': '07', 'grp_description': 'Vehicle Theft', 'arst_typ_cd': 'F', 'charge': '10851(A)VC', 'chrg_desc': \"TAKE VEHICLE W/O OWNER'S CONSENT\", 'location': 'MILL', 'crsst': 'INDUSTRIAL', 'location_1': {'latitude': '34.0359', 'longitude': '-118.2344', 'human_address': '{\"address\": \"\", \"city\": \"\", \"state\": \"\", \"zip\": \"\"}'}}]\n",
      "...\n",
      "[{'rpt_id': '5816871', 'arst_date': '2019-12-07T00:00:00.000', 'time': '0650', 'area': '01', 'area_desc': 'Central', 'rd': '0119', 'age': '31', 'sex_cd': 'M', 'descent_cd': 'B', 'chrg_grp_cd': '16', 'grp_description': 'Narcotic Drug Laws', 'arst_typ_cd': 'M', 'charge': '11377(A)HS', 'chrg_desc': 'POSSESSION CONTROLLED SUBSTANCE', 'location': '800 N  ALAMEDA                      ST', 'location_1': {'latitude': '34.0563', 'longitude': '-118.2374', 'human_address': '{\"address\": \"\", \"city\": \"\", \"state\": \"\", \"zip\": \"\"}'}}, {'rpt_id': '5816829', 'arst_date': '2019-12-07T00:00:00.000', 'time': '0354', 'area': '01', 'area_desc': 'Central', 'rd': '0135', 'age': '55', 'sex_cd': 'F', 'descent_cd': 'B', 'chrg_grp_cd': '22', 'grp_description': 'Driving Under Influence', 'arst_typ_cd': 'M', 'charge': '23152(A)VC', 'chrg_desc': 'DRUNK DRIVING ALCOHOL/DRUGS', 'location': '10                           FY', 'crsst': '51ST                         ST', 'location_1': {'latitude': '34.0495', 'longitude': '-118.2458', 'human_address': '{\"address\": \"\", \"city\": \"\", \"state\": \"\", \"zip\": \"\"}'}}]\n"
     ]
    }
   ],
   "source": [
    "import logging\n",
    "import pandas as pd\n",
    "from sodapy import Socrata\n",
    "import utils\n",
    "\n",
    "# download data\n",
    "CRIME_SOURCE = \"data.lacity.org\"\n",
    "client0 = Socrata(CRIME_SOURCE, None)\n",
    "results = client0.get(\"yru6-6re4\",where=\"arst_date > '2019-6-01T00:00:00.000'\",limit = 1000000) # wait to be confirmed\n",
    "print(results[:2])\n",
    "print('...')\n",
    "print(results[-2:])"
   ]
  },
  {
   "cell_type": "markdown",
   "metadata": {},
   "source": [
    "## 2. Raw Data to Documents/Dicts      \n",
    "Datetime conversion is made and age column is changed to numeric data type. Now the data can be easily converted to a list of dicts which is what we want for the MongoDB."
   ]
  },
  {
   "cell_type": "code",
   "execution_count": 10,
   "metadata": {},
   "outputs": [
    {
     "data": {
      "text/html": [
       "<div>\n",
       "<style scoped>\n",
       "    .dataframe tbody tr th:only-of-type {\n",
       "        vertical-align: middle;\n",
       "    }\n",
       "\n",
       "    .dataframe tbody tr th {\n",
       "        vertical-align: top;\n",
       "    }\n",
       "\n",
       "    .dataframe thead th {\n",
       "        text-align: right;\n",
       "    }\n",
       "</style>\n",
       "<table border=\"1\" class=\"dataframe\">\n",
       "  <thead>\n",
       "    <tr style=\"text-align: right;\">\n",
       "      <th></th>\n",
       "      <th>rpt_id</th>\n",
       "      <th>arst_date</th>\n",
       "      <th>time</th>\n",
       "      <th>area</th>\n",
       "      <th>area_desc</th>\n",
       "      <th>rd</th>\n",
       "      <th>age</th>\n",
       "      <th>sex_cd</th>\n",
       "      <th>descent_cd</th>\n",
       "      <th>chrg_grp_cd</th>\n",
       "      <th>grp_description</th>\n",
       "      <th>arst_typ_cd</th>\n",
       "      <th>charge</th>\n",
       "      <th>chrg_desc</th>\n",
       "      <th>location</th>\n",
       "      <th>crsst</th>\n",
       "      <th>location_1</th>\n",
       "    </tr>\n",
       "  </thead>\n",
       "  <tbody>\n",
       "    <tr>\n",
       "      <th>0</th>\n",
       "      <td>5646788</td>\n",
       "      <td>2019-06-02</td>\n",
       "      <td>0045</td>\n",
       "      <td>06</td>\n",
       "      <td>Hollywood</td>\n",
       "      <td>0646</td>\n",
       "      <td>56</td>\n",
       "      <td>M</td>\n",
       "      <td>H</td>\n",
       "      <td>24</td>\n",
       "      <td>Miscellaneous Other Violations</td>\n",
       "      <td>F</td>\n",
       "      <td>3455(B)1PC</td>\n",
       "      <td>WARRANT-PETITION TO REVOKE COMMUNITY SUPVN</td>\n",
       "      <td>SUNSET</td>\n",
       "      <td>CHEROKEE</td>\n",
       "      <td>{'latitude': '34.098', 'longitude': '-118.3353...</td>\n",
       "    </tr>\n",
       "    <tr>\n",
       "      <th>1</th>\n",
       "      <td>5647286</td>\n",
       "      <td>2019-06-02</td>\n",
       "      <td>2010</td>\n",
       "      <td>01</td>\n",
       "      <td>Central</td>\n",
       "      <td>0159</td>\n",
       "      <td>22</td>\n",
       "      <td>M</td>\n",
       "      <td>H</td>\n",
       "      <td>07</td>\n",
       "      <td>Vehicle Theft</td>\n",
       "      <td>F</td>\n",
       "      <td>10851(A)VC</td>\n",
       "      <td>TAKE VEHICLE W/O OWNER'S CONSENT</td>\n",
       "      <td>MILL</td>\n",
       "      <td>INDUSTRIAL</td>\n",
       "      <td>{'latitude': '34.0359', 'longitude': '-118.234...</td>\n",
       "    </tr>\n",
       "    <tr>\n",
       "      <th>2</th>\n",
       "      <td>5646925</td>\n",
       "      <td>2019-06-02</td>\n",
       "      <td>0130</td>\n",
       "      <td>10</td>\n",
       "      <td>West Valley</td>\n",
       "      <td>1023</td>\n",
       "      <td>31</td>\n",
       "      <td>M</td>\n",
       "      <td>H</td>\n",
       "      <td>12</td>\n",
       "      <td>Weapon (carry/poss)</td>\n",
       "      <td>F</td>\n",
       "      <td>25850(A)PC</td>\n",
       "      <td>CARRY LOADED F/ARM PRSON/HEH PUBLIC PLACE</td>\n",
       "      <td>19000    VANOWEN                      ST</td>\n",
       "      <td>NaN</td>\n",
       "      <td>{'latitude': '34.1939', 'longitude': '-118.547...</td>\n",
       "    </tr>\n",
       "    <tr>\n",
       "      <th>3</th>\n",
       "      <td>5647265</td>\n",
       "      <td>2019-06-02</td>\n",
       "      <td>1350</td>\n",
       "      <td>01</td>\n",
       "      <td>Central</td>\n",
       "      <td>0143</td>\n",
       "      <td>30</td>\n",
       "      <td>M</td>\n",
       "      <td>B</td>\n",
       "      <td>06</td>\n",
       "      <td>Larceny</td>\n",
       "      <td>M</td>\n",
       "      <td>459.5PC</td>\n",
       "      <td>SHOPLIFTING</td>\n",
       "      <td>400 S  BROADWAY</td>\n",
       "      <td>NaN</td>\n",
       "      <td>{'latitude': '34.0495', 'longitude': '-118.249...</td>\n",
       "    </tr>\n",
       "    <tr>\n",
       "      <th>4</th>\n",
       "      <td>5646978</td>\n",
       "      <td>2019-06-02</td>\n",
       "      <td>0930</td>\n",
       "      <td>13</td>\n",
       "      <td>Newton</td>\n",
       "      <td>1351</td>\n",
       "      <td>28</td>\n",
       "      <td>F</td>\n",
       "      <td>B</td>\n",
       "      <td>04</td>\n",
       "      <td>Aggravated Assault</td>\n",
       "      <td>F</td>\n",
       "      <td>245(A)(1)PC</td>\n",
       "      <td>ADW, NOT FIREARM, W/GBI</td>\n",
       "      <td>100 W  43RD                         PL</td>\n",
       "      <td>NaN</td>\n",
       "      <td>{'latitude': '34.0047', 'longitude': '-118.274...</td>\n",
       "    </tr>\n",
       "  </tbody>\n",
       "</table>\n",
       "</div>"
      ],
      "text/plain": [
       "    rpt_id  arst_date  time area    area_desc    rd  age sex_cd descent_cd  \\\n",
       "0  5646788 2019-06-02  0045   06    Hollywood  0646   56      M          H   \n",
       "1  5647286 2019-06-02  2010   01      Central  0159   22      M          H   \n",
       "2  5646925 2019-06-02  0130   10  West Valley  1023   31      M          H   \n",
       "3  5647265 2019-06-02  1350   01      Central  0143   30      M          B   \n",
       "4  5646978 2019-06-02  0930   13       Newton  1351   28      F          B   \n",
       "\n",
       "  chrg_grp_cd                 grp_description arst_typ_cd       charge  \\\n",
       "0          24  Miscellaneous Other Violations           F   3455(B)1PC   \n",
       "1          07                   Vehicle Theft           F   10851(A)VC   \n",
       "2          12             Weapon (carry/poss)           F   25850(A)PC   \n",
       "3          06                         Larceny           M      459.5PC   \n",
       "4          04              Aggravated Assault           F  245(A)(1)PC   \n",
       "\n",
       "                                    chrg_desc  \\\n",
       "0  WARRANT-PETITION TO REVOKE COMMUNITY SUPVN   \n",
       "1            TAKE VEHICLE W/O OWNER'S CONSENT   \n",
       "2   CARRY LOADED F/ARM PRSON/HEH PUBLIC PLACE   \n",
       "3                                 SHOPLIFTING   \n",
       "4                     ADW, NOT FIREARM, W/GBI   \n",
       "\n",
       "                                   location       crsst  \\\n",
       "0                                    SUNSET    CHEROKEE   \n",
       "1                                      MILL  INDUSTRIAL   \n",
       "2  19000    VANOWEN                      ST         NaN   \n",
       "3                           400 S  BROADWAY         NaN   \n",
       "4    100 W  43RD                         PL         NaN   \n",
       "\n",
       "                                          location_1  \n",
       "0  {'latitude': '34.098', 'longitude': '-118.3353...  \n",
       "1  {'latitude': '34.0359', 'longitude': '-118.234...  \n",
       "2  {'latitude': '34.1939', 'longitude': '-118.547...  \n",
       "3  {'latitude': '34.0495', 'longitude': '-118.249...  \n",
       "4  {'latitude': '34.0047', 'longitude': '-118.274...  "
      ]
     },
     "execution_count": 10,
     "metadata": {},
     "output_type": "execute_result"
    }
   ],
   "source": [
    "from datetime import datetime\n",
    "\n",
    "df = pd.DataFrame.from_records(results)\n",
    "df['arst_date'] = pd.to_datetime(df['arst_date'])\n",
    "# df['hour'] = df['time'].apply(lambda x: datetime.strptime(x, '%H%M').time().hour)\n",
    "#df['month'] = df['arst_date'].apply(lambda x: datetime.strptime(x, '%Y%m').time())\n",
    "df['age'] = pd.to_numeric(df['age'])\n",
    "df.head()"
   ]
  },
  {
   "cell_type": "markdown",
   "metadata": {},
   "source": [
    "## 3. Upsert MongoDB         \n",
    "To avoid duplicate data entries between each run, the de-duplication mechanism makes sure that only a new record with a different report_id (rpt_id) will be inserted to the database. "
   ]
  },
  {
   "cell_type": "code",
   "execution_count": 11,
   "metadata": {},
   "outputs": [],
   "source": [
    "import pymongo\n",
    "client = pymongo.MongoClient()"
   ]
  },
  {
   "cell_type": "code",
   "execution_count": 12,
   "metadata": {
    "scrolled": true
   },
   "outputs": [
    {
     "ename": "KeyboardInterrupt",
     "evalue": "",
     "output_type": "error",
     "traceback": [
      "\u001b[0;31m---------------------------------------------------------------------------\u001b[0m",
      "\u001b[0;31mKeyboardInterrupt\u001b[0m                         Traceback (most recent call last)",
      "\u001b[0;32m<ipython-input-12-3f1b99529a85>\u001b[0m in \u001b[0;36m<module>\u001b[0;34m\u001b[0m\n\u001b[1;32m      6\u001b[0m         \u001b[0mfilter\u001b[0m \u001b[0;34m=\u001b[0m \u001b[0;34m{\u001b[0m\u001b[0;34m'rpt_id'\u001b[0m\u001b[0;34m:\u001b[0m \u001b[0mrecord\u001b[0m\u001b[0;34m[\u001b[0m\u001b[0;34m'rpt_id'\u001b[0m\u001b[0;34m]\u001b[0m\u001b[0;34m}\u001b[0m\u001b[0;34m,\u001b[0m    \u001b[0;31m# locate the document if exists\u001b[0m\u001b[0;34m\u001b[0m\u001b[0;34m\u001b[0m\u001b[0m\n\u001b[1;32m      7\u001b[0m         \u001b[0mreplacement\u001b[0m \u001b[0;34m=\u001b[0m \u001b[0mrecord\u001b[0m\u001b[0;34m,\u001b[0m                         \u001b[0;31m# latest document\u001b[0m\u001b[0;34m\u001b[0m\u001b[0;34m\u001b[0m\u001b[0m\n\u001b[0;32m----> 8\u001b[0;31m         upsert=True)\n\u001b[0m\u001b[1;32m      9\u001b[0m     \u001b[0;32mif\u001b[0m \u001b[0mresult\u001b[0m\u001b[0;34m.\u001b[0m\u001b[0mmatched_count\u001b[0m \u001b[0;34m>\u001b[0m \u001b[0;36m0\u001b[0m\u001b[0;34m:\u001b[0m\u001b[0;34m\u001b[0m\u001b[0;34m\u001b[0m\u001b[0m\n\u001b[1;32m     10\u001b[0m         \u001b[0mupdate_count\u001b[0m \u001b[0;34m+=\u001b[0m \u001b[0;36m1\u001b[0m\u001b[0;34m\u001b[0m\u001b[0;34m\u001b[0m\u001b[0m\n",
      "\u001b[0;32m/workspace/.pip-modules/lib/python3.7/site-packages/pymongo/collection.py\u001b[0m in \u001b[0;36mreplace_one\u001b[0;34m(self, filter, replacement, upsert, bypass_document_validation, collation, session)\u001b[0m\n\u001b[1;32m    928\u001b[0m                 \u001b[0mwrite_concern\u001b[0m\u001b[0;34m=\u001b[0m\u001b[0mwrite_concern\u001b[0m\u001b[0;34m,\u001b[0m\u001b[0;34m\u001b[0m\u001b[0;34m\u001b[0m\u001b[0m\n\u001b[1;32m    929\u001b[0m                 \u001b[0mbypass_doc_val\u001b[0m\u001b[0;34m=\u001b[0m\u001b[0mbypass_document_validation\u001b[0m\u001b[0;34m,\u001b[0m\u001b[0;34m\u001b[0m\u001b[0;34m\u001b[0m\u001b[0m\n\u001b[0;32m--> 930\u001b[0;31m                 collation=collation, session=session),\n\u001b[0m\u001b[1;32m    931\u001b[0m             write_concern.acknowledged)\n\u001b[1;32m    932\u001b[0m \u001b[0;34m\u001b[0m\u001b[0m\n",
      "\u001b[0;32m/workspace/.pip-modules/lib/python3.7/site-packages/pymongo/collection.py\u001b[0m in \u001b[0;36m_update_retryable\u001b[0;34m(self, criteria, document, upsert, check_keys, multi, manipulate, write_concern, op_id, ordered, bypass_doc_val, collation, array_filters, session)\u001b[0m\n\u001b[1;32m    854\u001b[0m         return self.__database.client._retryable_write(\n\u001b[1;32m    855\u001b[0m             \u001b[0;34m(\u001b[0m\u001b[0mwrite_concern\u001b[0m \u001b[0;32mor\u001b[0m \u001b[0mself\u001b[0m\u001b[0;34m.\u001b[0m\u001b[0mwrite_concern\u001b[0m\u001b[0;34m)\u001b[0m\u001b[0;34m.\u001b[0m\u001b[0macknowledged\u001b[0m \u001b[0;32mand\u001b[0m \u001b[0;32mnot\u001b[0m \u001b[0mmulti\u001b[0m\u001b[0;34m,\u001b[0m\u001b[0;34m\u001b[0m\u001b[0;34m\u001b[0m\u001b[0m\n\u001b[0;32m--> 856\u001b[0;31m             _update, session)\n\u001b[0m\u001b[1;32m    857\u001b[0m \u001b[0;34m\u001b[0m\u001b[0m\n\u001b[1;32m    858\u001b[0m     def replace_one(self, filter, replacement, upsert=False,\n",
      "\u001b[0;32m/workspace/.pip-modules/lib/python3.7/site-packages/pymongo/mongo_client.py\u001b[0m in \u001b[0;36m_retryable_write\u001b[0;34m(self, retryable, func, session)\u001b[0m\n\u001b[1;32m   1489\u001b[0m         \u001b[0;34m\"\"\"Internal retryable write helper.\"\"\"\u001b[0m\u001b[0;34m\u001b[0m\u001b[0;34m\u001b[0m\u001b[0m\n\u001b[1;32m   1490\u001b[0m         \u001b[0;32mwith\u001b[0m \u001b[0mself\u001b[0m\u001b[0;34m.\u001b[0m\u001b[0m_tmp_session\u001b[0m\u001b[0;34m(\u001b[0m\u001b[0msession\u001b[0m\u001b[0;34m)\u001b[0m \u001b[0;32mas\u001b[0m \u001b[0ms\u001b[0m\u001b[0;34m:\u001b[0m\u001b[0;34m\u001b[0m\u001b[0;34m\u001b[0m\u001b[0m\n\u001b[0;32m-> 1491\u001b[0;31m             \u001b[0;32mreturn\u001b[0m \u001b[0mself\u001b[0m\u001b[0;34m.\u001b[0m\u001b[0m_retry_with_session\u001b[0m\u001b[0;34m(\u001b[0m\u001b[0mretryable\u001b[0m\u001b[0;34m,\u001b[0m \u001b[0mfunc\u001b[0m\u001b[0;34m,\u001b[0m \u001b[0ms\u001b[0m\u001b[0;34m,\u001b[0m \u001b[0;32mNone\u001b[0m\u001b[0;34m)\u001b[0m\u001b[0;34m\u001b[0m\u001b[0;34m\u001b[0m\u001b[0m\n\u001b[0m\u001b[1;32m   1492\u001b[0m \u001b[0;34m\u001b[0m\u001b[0m\n\u001b[1;32m   1493\u001b[0m     \u001b[0;32mdef\u001b[0m \u001b[0m_reset_server\u001b[0m\u001b[0;34m(\u001b[0m\u001b[0mself\u001b[0m\u001b[0;34m,\u001b[0m \u001b[0maddress\u001b[0m\u001b[0;34m)\u001b[0m\u001b[0;34m:\u001b[0m\u001b[0;34m\u001b[0m\u001b[0;34m\u001b[0m\u001b[0m\n",
      "\u001b[0;32m/workspace/.pip-modules/lib/python3.7/site-packages/pymongo/mongo_client.py\u001b[0m in \u001b[0;36m_retry_with_session\u001b[0;34m(self, retryable, func, session, bulk)\u001b[0m\n\u001b[1;32m   1382\u001b[0m                             \u001b[0;32mraise\u001b[0m \u001b[0mlast_error\u001b[0m\u001b[0;34m\u001b[0m\u001b[0;34m\u001b[0m\u001b[0m\n\u001b[1;32m   1383\u001b[0m                         \u001b[0mretryable\u001b[0m \u001b[0;34m=\u001b[0m \u001b[0;32mFalse\u001b[0m\u001b[0;34m\u001b[0m\u001b[0;34m\u001b[0m\u001b[0m\n\u001b[0;32m-> 1384\u001b[0;31m                     \u001b[0;32mreturn\u001b[0m \u001b[0mfunc\u001b[0m\u001b[0;34m(\u001b[0m\u001b[0msession\u001b[0m\u001b[0;34m,\u001b[0m \u001b[0msock_info\u001b[0m\u001b[0;34m,\u001b[0m \u001b[0mretryable\u001b[0m\u001b[0;34m)\u001b[0m\u001b[0;34m\u001b[0m\u001b[0;34m\u001b[0m\u001b[0m\n\u001b[0m\u001b[1;32m   1385\u001b[0m             \u001b[0;32mexcept\u001b[0m \u001b[0mServerSelectionTimeoutError\u001b[0m\u001b[0;34m:\u001b[0m\u001b[0;34m\u001b[0m\u001b[0;34m\u001b[0m\u001b[0m\n\u001b[1;32m   1386\u001b[0m                 \u001b[0;32mif\u001b[0m \u001b[0mis_retrying\u001b[0m\u001b[0;34m(\u001b[0m\u001b[0;34m)\u001b[0m\u001b[0;34m:\u001b[0m\u001b[0;34m\u001b[0m\u001b[0;34m\u001b[0m\u001b[0m\n",
      "\u001b[0;32m/workspace/.pip-modules/lib/python3.7/site-packages/pymongo/collection.py\u001b[0m in \u001b[0;36m_update\u001b[0;34m(session, sock_info, retryable_write)\u001b[0m\n\u001b[1;32m    850\u001b[0m                 \u001b[0mbypass_doc_val\u001b[0m\u001b[0;34m=\u001b[0m\u001b[0mbypass_doc_val\u001b[0m\u001b[0;34m,\u001b[0m \u001b[0mcollation\u001b[0m\u001b[0;34m=\u001b[0m\u001b[0mcollation\u001b[0m\u001b[0;34m,\u001b[0m\u001b[0;34m\u001b[0m\u001b[0;34m\u001b[0m\u001b[0m\n\u001b[1;32m    851\u001b[0m                 \u001b[0marray_filters\u001b[0m\u001b[0;34m=\u001b[0m\u001b[0marray_filters\u001b[0m\u001b[0;34m,\u001b[0m \u001b[0msession\u001b[0m\u001b[0;34m=\u001b[0m\u001b[0msession\u001b[0m\u001b[0;34m,\u001b[0m\u001b[0;34m\u001b[0m\u001b[0;34m\u001b[0m\u001b[0m\n\u001b[0;32m--> 852\u001b[0;31m                 retryable_write=retryable_write)\n\u001b[0m\u001b[1;32m    853\u001b[0m \u001b[0;34m\u001b[0m\u001b[0m\n\u001b[1;32m    854\u001b[0m         return self.__database.client._retryable_write(\n",
      "\u001b[0;32m/workspace/.pip-modules/lib/python3.7/site-packages/pymongo/collection.py\u001b[0m in \u001b[0;36m_update\u001b[0;34m(self, sock_info, criteria, document, upsert, check_keys, multi, manipulate, write_concern, op_id, ordered, bypass_doc_val, collation, array_filters, session, retryable_write)\u001b[0m\n\u001b[1;32m    820\u001b[0m             \u001b[0msession\u001b[0m\u001b[0;34m=\u001b[0m\u001b[0msession\u001b[0m\u001b[0;34m,\u001b[0m\u001b[0;34m\u001b[0m\u001b[0;34m\u001b[0m\u001b[0m\n\u001b[1;32m    821\u001b[0m             \u001b[0mclient\u001b[0m\u001b[0;34m=\u001b[0m\u001b[0mself\u001b[0m\u001b[0;34m.\u001b[0m\u001b[0m__database\u001b[0m\u001b[0;34m.\u001b[0m\u001b[0mclient\u001b[0m\u001b[0;34m,\u001b[0m\u001b[0;34m\u001b[0m\u001b[0;34m\u001b[0m\u001b[0m\n\u001b[0;32m--> 822\u001b[0;31m             retryable_write=retryable_write).copy()\n\u001b[0m\u001b[1;32m    823\u001b[0m         \u001b[0m_check_write_command_response\u001b[0m\u001b[0;34m(\u001b[0m\u001b[0mresult\u001b[0m\u001b[0;34m)\u001b[0m\u001b[0;34m\u001b[0m\u001b[0;34m\u001b[0m\u001b[0m\n\u001b[1;32m    824\u001b[0m         \u001b[0;31m# Add the updatedExisting field for compatibility.\u001b[0m\u001b[0;34m\u001b[0m\u001b[0;34m\u001b[0m\u001b[0;34m\u001b[0m\u001b[0m\n",
      "\u001b[0;32m/workspace/.pip-modules/lib/python3.7/site-packages/pymongo/pool.py\u001b[0m in \u001b[0;36mcommand\u001b[0;34m(self, dbname, spec, slave_ok, read_preference, codec_options, check, allowable_errors, check_keys, read_concern, write_concern, parse_write_concern_error, collation, session, client, retryable_write, publish_events, user_fields)\u001b[0m\n\u001b[1;32m    616\u001b[0m         \u001b[0;31m# Catch socket.error, KeyboardInterrupt, etc. and close ourselves.\u001b[0m\u001b[0;34m\u001b[0m\u001b[0;34m\u001b[0m\u001b[0;34m\u001b[0m\u001b[0m\n\u001b[1;32m    617\u001b[0m         \u001b[0;32mexcept\u001b[0m \u001b[0mBaseException\u001b[0m \u001b[0;32mas\u001b[0m \u001b[0merror\u001b[0m\u001b[0;34m:\u001b[0m\u001b[0;34m\u001b[0m\u001b[0;34m\u001b[0m\u001b[0m\n\u001b[0;32m--> 618\u001b[0;31m             \u001b[0mself\u001b[0m\u001b[0;34m.\u001b[0m\u001b[0m_raise_connection_failure\u001b[0m\u001b[0;34m(\u001b[0m\u001b[0merror\u001b[0m\u001b[0;34m)\u001b[0m\u001b[0;34m\u001b[0m\u001b[0;34m\u001b[0m\u001b[0m\n\u001b[0m\u001b[1;32m    619\u001b[0m \u001b[0;34m\u001b[0m\u001b[0m\n\u001b[1;32m    620\u001b[0m     \u001b[0;32mdef\u001b[0m \u001b[0msend_message\u001b[0m\u001b[0;34m(\u001b[0m\u001b[0mself\u001b[0m\u001b[0;34m,\u001b[0m \u001b[0mmessage\u001b[0m\u001b[0;34m,\u001b[0m \u001b[0mmax_doc_size\u001b[0m\u001b[0;34m)\u001b[0m\u001b[0;34m:\u001b[0m\u001b[0;34m\u001b[0m\u001b[0;34m\u001b[0m\u001b[0m\n",
      "\u001b[0;32m/workspace/.pip-modules/lib/python3.7/site-packages/pymongo/pool.py\u001b[0m in \u001b[0;36mcommand\u001b[0;34m(self, dbname, spec, slave_ok, read_preference, codec_options, check, allowable_errors, check_keys, read_concern, write_concern, parse_write_concern_error, collation, session, client, retryable_write, publish_events, user_fields)\u001b[0m\n\u001b[1;32m    611\u001b[0m                            \u001b[0muse_op_msg\u001b[0m\u001b[0;34m=\u001b[0m\u001b[0mself\u001b[0m\u001b[0;34m.\u001b[0m\u001b[0mop_msg_enabled\u001b[0m\u001b[0;34m,\u001b[0m\u001b[0;34m\u001b[0m\u001b[0;34m\u001b[0m\u001b[0m\n\u001b[1;32m    612\u001b[0m                            \u001b[0munacknowledged\u001b[0m\u001b[0;34m=\u001b[0m\u001b[0munacknowledged\u001b[0m\u001b[0;34m,\u001b[0m\u001b[0;34m\u001b[0m\u001b[0;34m\u001b[0m\u001b[0m\n\u001b[0;32m--> 613\u001b[0;31m                            user_fields=user_fields)\n\u001b[0m\u001b[1;32m    614\u001b[0m         \u001b[0;32mexcept\u001b[0m \u001b[0mOperationFailure\u001b[0m\u001b[0;34m:\u001b[0m\u001b[0;34m\u001b[0m\u001b[0;34m\u001b[0m\u001b[0m\n\u001b[1;32m    615\u001b[0m             \u001b[0;32mraise\u001b[0m\u001b[0;34m\u001b[0m\u001b[0;34m\u001b[0m\u001b[0m\n",
      "\u001b[0;32m/workspace/.pip-modules/lib/python3.7/site-packages/pymongo/network.py\u001b[0m in \u001b[0;36mcommand\u001b[0;34m(sock, dbname, spec, slave_ok, is_mongos, read_preference, codec_options, session, client, check, allowable_errors, address, check_keys, listeners, max_bson_size, read_concern, parse_write_concern_error, collation, compression_ctx, use_op_msg, unacknowledged, user_fields)\u001b[0m\n\u001b[1;32m    155\u001b[0m             \u001b[0mresponse_doc\u001b[0m \u001b[0;34m=\u001b[0m \u001b[0;34m{\u001b[0m\u001b[0;34m\"ok\"\u001b[0m\u001b[0;34m:\u001b[0m \u001b[0;36m1\u001b[0m\u001b[0;34m}\u001b[0m\u001b[0;34m\u001b[0m\u001b[0;34m\u001b[0m\u001b[0m\n\u001b[1;32m    156\u001b[0m         \u001b[0;32melse\u001b[0m\u001b[0;34m:\u001b[0m\u001b[0;34m\u001b[0m\u001b[0;34m\u001b[0m\u001b[0m\n\u001b[0;32m--> 157\u001b[0;31m             \u001b[0mreply\u001b[0m \u001b[0;34m=\u001b[0m \u001b[0mreceive_message\u001b[0m\u001b[0;34m(\u001b[0m\u001b[0msock\u001b[0m\u001b[0;34m,\u001b[0m \u001b[0mrequest_id\u001b[0m\u001b[0;34m)\u001b[0m\u001b[0;34m\u001b[0m\u001b[0;34m\u001b[0m\u001b[0m\n\u001b[0m\u001b[1;32m    158\u001b[0m             unpacked_docs = reply.unpack_response(\n\u001b[1;32m    159\u001b[0m                 codec_options=codec_options, user_fields=user_fields)\n",
      "\u001b[0;32m/workspace/.pip-modules/lib/python3.7/site-packages/pymongo/network.py\u001b[0m in \u001b[0;36mreceive_message\u001b[0;34m(sock, request_id, max_message_size)\u001b[0m\n\u001b[1;32m    194\u001b[0m     \u001b[0;31m# Ignore the response's request id.\u001b[0m\u001b[0;34m\u001b[0m\u001b[0;34m\u001b[0m\u001b[0;34m\u001b[0m\u001b[0m\n\u001b[1;32m    195\u001b[0m     length, _, response_to, op_code = _UNPACK_HEADER(\n\u001b[0;32m--> 196\u001b[0;31m         _receive_data_on_socket(sock, 16))\n\u001b[0m\u001b[1;32m    197\u001b[0m     \u001b[0;31m# No request_id for exhaust cursor \"getMore\".\u001b[0m\u001b[0;34m\u001b[0m\u001b[0;34m\u001b[0m\u001b[0;34m\u001b[0m\u001b[0m\n\u001b[1;32m    198\u001b[0m     \u001b[0;32mif\u001b[0m \u001b[0mrequest_id\u001b[0m \u001b[0;32mis\u001b[0m \u001b[0;32mnot\u001b[0m \u001b[0;32mNone\u001b[0m\u001b[0;34m:\u001b[0m\u001b[0;34m\u001b[0m\u001b[0;34m\u001b[0m\u001b[0m\n",
      "\u001b[0;32m/workspace/.pip-modules/lib/python3.7/site-packages/pymongo/network.py\u001b[0m in \u001b[0;36m_receive_data_on_socket\u001b[0;34m(sock, length)\u001b[0m\n\u001b[1;32m    253\u001b[0m         \u001b[0;32mwhile\u001b[0m \u001b[0mbytes_read\u001b[0m \u001b[0;34m<\u001b[0m \u001b[0mlength\u001b[0m\u001b[0;34m:\u001b[0m\u001b[0;34m\u001b[0m\u001b[0;34m\u001b[0m\u001b[0m\n\u001b[1;32m    254\u001b[0m             \u001b[0;32mtry\u001b[0m\u001b[0;34m:\u001b[0m\u001b[0;34m\u001b[0m\u001b[0;34m\u001b[0m\u001b[0m\n\u001b[0;32m--> 255\u001b[0;31m                 \u001b[0mchunk_length\u001b[0m \u001b[0;34m=\u001b[0m \u001b[0msock\u001b[0m\u001b[0;34m.\u001b[0m\u001b[0mrecv_into\u001b[0m\u001b[0;34m(\u001b[0m\u001b[0mmv\u001b[0m\u001b[0;34m[\u001b[0m\u001b[0mbytes_read\u001b[0m\u001b[0;34m:\u001b[0m\u001b[0;34m]\u001b[0m\u001b[0;34m)\u001b[0m\u001b[0;34m\u001b[0m\u001b[0;34m\u001b[0m\u001b[0m\n\u001b[0m\u001b[1;32m    256\u001b[0m             \u001b[0;32mexcept\u001b[0m \u001b[0;34m(\u001b[0m\u001b[0mIOError\u001b[0m\u001b[0;34m,\u001b[0m \u001b[0mOSError\u001b[0m\u001b[0;34m)\u001b[0m \u001b[0;32mas\u001b[0m \u001b[0mexc\u001b[0m\u001b[0;34m:\u001b[0m\u001b[0;34m\u001b[0m\u001b[0;34m\u001b[0m\u001b[0m\n\u001b[1;32m    257\u001b[0m                 \u001b[0;32mif\u001b[0m \u001b[0m_errno_from_exception\u001b[0m\u001b[0;34m(\u001b[0m\u001b[0mexc\u001b[0m\u001b[0;34m)\u001b[0m \u001b[0;34m==\u001b[0m \u001b[0merrno\u001b[0m\u001b[0;34m.\u001b[0m\u001b[0mEINTR\u001b[0m\u001b[0;34m:\u001b[0m\u001b[0;34m\u001b[0m\u001b[0;34m\u001b[0m\u001b[0m\n",
      "\u001b[0;31mKeyboardInterrupt\u001b[0m: "
     ]
    }
   ],
   "source": [
    "db = client.get_database(\"crime\")\n",
    "collection = db.get_collection(\"crime\")\n",
    "update_count = 0\n",
    "for record in df.to_dict('records'):\n",
    "    result = collection.replace_one(\n",
    "        filter = {'rpt_id': record['rpt_id']},    # locate the document if exists\n",
    "        replacement = record,                         # latest document\n",
    "        upsert=True)\n",
    "    if result.matched_count > 0:\n",
    "        update_count += 1\n",
    "print(f\"rows={df.shape[0]}, update={update_count}, \"\n",
    "      f\"insert={df.shape[0]-update_count}\")"
   ]
  },
  {
   "cell_type": "code",
   "execution_count": null,
   "metadata": {},
   "outputs": [],
   "source": []
  }
 ],
 "metadata": {
  "kernelspec": {
   "display_name": "Python 3",
   "language": "python",
   "name": "python3"
  },
  "language_info": {
   "codemirror_mode": {
    "name": "ipython",
    "version": 3
   },
   "file_extension": ".py",
   "mimetype": "text/x-python",
   "name": "python",
   "nbconvert_exporter": "python",
   "pygments_lexer": "ipython3",
   "version": "3.7.4"
  }
 },
 "nbformat": 4,
 "nbformat_minor": 2
}
