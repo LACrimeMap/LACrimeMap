{
 "cells": [
  {
   "cell_type": "markdown",
   "metadata": {},
   "source": [
    "# ETL_EDA    \n",
    "This file records the process of acquiring raw data, traforming them, and loading them into a MongoDB. The data are store (almost) in their raw form."
   ]
  },
  {
   "cell_type": "markdown",
   "metadata": {},
   "source": [
    "## 1. Raw Data from LAPD     \n",
    "The [dataset](https://data.lacity.org/A-Safe-City/Arrest-Data-from-2010-to-Present/yru6-6re4) is a continuously updated file in csv format. It contains City of Los Angeles arrest data from 2010 to present. It can be retrieved simply by making requests without parameters. For more complicated API call, you may need to add query parameters."
   ]
  },
  {
   "cell_type": "code",
   "execution_count": 3,
   "metadata": {},
   "outputs": [
    {
     "name": "stderr",
     "output_type": "stream",
     "text": [
      "WARNING:root:Requests made without an app_token will be subject to strict throttling limits.\n"
     ]
    },
    {
     "name": "stdout",
     "output_type": "stream",
     "text": [
      "[{'rpt_id': '190129845', 'report_type': 'RFC', 'arst_date': '2019-12-11T00:00:00.000', 'time': '1510', 'area': '01', 'area_desc': 'Central', 'rd': '0152', 'age': '24', 'sex_cd': 'M', 'descent_cd': 'H', 'arst_typ_cd': 'I', 'charge': '63.44B24LAM', 'dispo_desc': 'MISDEMEANOR COMPLAINT FILED', 'location': '5TH', 'crsst': 'HILL', 'lat': '34.0489', 'lon': '-118.2519', 'location_1': {'type': 'Point', 'coordinates': [-118.2519, 34.0489]}}, {'rpt_id': '191425299', 'report_type': 'RFC', 'arst_date': '2019-12-11T00:00:00.000', 'time': '1430', 'area': '14', 'area_desc': 'Pacific', 'rd': '1409', 'age': '24', 'sex_cd': 'F', 'descent_cd': 'H', 'arst_typ_cd': 'M', 'charge': '104.01A27', 'dispo_desc': 'MISDEMEANOR COMPLAINT FILED', 'location': '9600    VENICE                       BL', 'lat': '34.0249', 'lon': '-118.3959', 'location_1': {'type': 'Point', 'coordinates': [-118.3959, 34.0249]}}]\n",
      "...\n",
      "[{'rpt_id': '5835308', 'report_type': 'BOOKING', 'arst_date': '2019-12-31T00:00:00.000', 'time': '1010', 'area': '09', 'area_desc': 'Van Nuys', 'rd': '0969', 'age': '26', 'sex_cd': 'M', 'descent_cd': 'H', 'chrg_grp_cd': '24', 'grp_description': 'Miscellaneous Other Violations', 'arst_typ_cd': 'F', 'charge': '3455(B)1PC', 'chrg_desc': 'WARRANT-PETITION TO REVOKE COMMUNITY SUPVN', 'dispo_desc': 'FELONY COMPLAINT FILED', 'location': '12500    RIVERSIDE                    DR', 'lat': '34.1576', 'lon': '-118.4052', 'location_1': {'type': 'Point', 'coordinates': [-118.4052, 34.1576]}, 'bkg_date': '2019-12-31T00:00:00.000', 'bkg_time': '1201', 'bgk_location': 'VALLEY - JAIL DIV', 'bkg_loc_cd': '4279'}, {'rpt_id': '5835314', 'report_type': 'BOOKING', 'arst_date': '2019-12-31T00:00:00.000', 'time': '1205', 'area': '09', 'area_desc': 'Van Nuys', 'rd': '0935', 'age': '47', 'sex_cd': 'M', 'descent_cd': 'W', 'chrg_grp_cd': '16', 'grp_description': 'Narcotic Drug Laws', 'arst_typ_cd': 'M', 'charge': '11350(A)HS', 'chrg_desc': 'POSSESSION OF CONTROLLED SUBSTANCE', 'location': '14400    ERWIN STREET', 'lat': '34.1837', 'lon': '-118.4465', 'location_1': {'type': 'Point', 'coordinates': [-118.4465, 34.1837]}, 'bkg_date': '2019-12-31T00:00:00.000', 'bkg_time': '1212', 'bgk_location': 'VALLEY - JAIL DIV', 'bkg_loc_cd': '4279'}]\n"
     ]
    }
   ],
   "source": [
    "import logging\n",
    "import pandas as pd\n",
    "from sodapy import Socrata\n",
    "import utils\n",
    "\n",
    "# download data\n",
    "CRIME_SOURCE = \"data.lacity.org\"\n",
    "client0 = Socrata(CRIME_SOURCE, None)\n",
    "results = client0.get(\"yru6-6re4\",where=\"arst_date > '2019-12-10T00:00:00.000'\",limit = 1000000) # wait to be confirmed\n",
    "print(results[:2])\n",
    "print('...')\n",
    "print(results[-2:])"
   ]
  },
  {
   "cell_type": "code",
   "execution_count": 2,
   "metadata": {},
   "outputs": [
    {
     "name": "stdout",
     "output_type": "stream",
     "text": [
      "Collecting sodapy\n",
      "  Downloading sodapy-2.1.0-py2.py3-none-any.whl (14 kB)\n",
      "Requirement already satisfied: requests>=2.20.0 in /anaconda3/lib/python3.7/site-packages (from sodapy) (2.22.0)\n",
      "Requirement already satisfied: idna<2.9,>=2.5 in /anaconda3/lib/python3.7/site-packages (from requests>=2.20.0->sodapy) (2.8)\n",
      "Requirement already satisfied: certifi>=2017.4.17 in /anaconda3/lib/python3.7/site-packages (from requests>=2.20.0->sodapy) (2020.6.20)\n",
      "Requirement already satisfied: chardet<3.1.0,>=3.0.2 in /anaconda3/lib/python3.7/site-packages (from requests>=2.20.0->sodapy) (3.0.4)\n",
      "Requirement already satisfied: urllib3!=1.25.0,!=1.25.1,<1.26,>=1.21.1 in /anaconda3/lib/python3.7/site-packages (from requests>=2.20.0->sodapy) (1.25.8)\n",
      "Installing collected packages: sodapy\n",
      "Successfully installed sodapy-2.1.0\n"
     ]
    }
   ],
   "source": [
    "!pip install sodapy"
   ]
  },
  {
   "cell_type": "markdown",
   "metadata": {},
   "source": [
    "## 2. Raw Data to Documents/Dicts      \n",
    "Datetime conversion is made and age column is changed to numeric data type. Now the data can be easily converted to a list of dicts which is what we want for the MongoDB."
   ]
  },
  {
   "cell_type": "code",
   "execution_count": 4,
   "metadata": {},
   "outputs": [],
   "source": [
    "import logging\n",
    "import pandas as pd\n",
    "from sodapy import Socrata\n",
    "import utils\n",
    "CRIME_SOURCE = \"data.lacity.org\"\n",
    "DOWNLOAD_PERIOD = 15         # second\n",
    "logger = logging.Logger(__name__)\n",
    "utils.setup_logger(logger, 'data.log')\n",
    "\n",
    "\n",
    "def download_crime(url=CRIME_SOURCE, start_date = '2019-12-08T00:00:00.000'):\n",
    "    \"\"\"Returns records from `CRIME_SOURCE` that includes crime and arrestee information.\n",
    "    \"\"\"\n",
    "    client = Socrata(url, None)\n",
    "    results = client.get(\"yru6-6re4\",where=f\"arst_date >= '{start_date}'\", limit = 10000) # wait to be confirmed\n",
    "    return results"
   ]
  },
  {
   "cell_type": "code",
   "execution_count": 5,
   "metadata": {},
   "outputs": [
    {
     "data": {
      "text/html": [
       "<div>\n",
       "<style scoped>\n",
       "    .dataframe tbody tr th:only-of-type {\n",
       "        vertical-align: middle;\n",
       "    }\n",
       "\n",
       "    .dataframe tbody tr th {\n",
       "        vertical-align: top;\n",
       "    }\n",
       "\n",
       "    .dataframe thead th {\n",
       "        text-align: right;\n",
       "    }\n",
       "</style>\n",
       "<table border=\"1\" class=\"dataframe\">\n",
       "  <thead>\n",
       "    <tr style=\"text-align: right;\">\n",
       "      <th></th>\n",
       "      <th>rpt_id</th>\n",
       "      <th>report_type</th>\n",
       "      <th>arst_date</th>\n",
       "      <th>time</th>\n",
       "      <th>area</th>\n",
       "      <th>area_desc</th>\n",
       "      <th>rd</th>\n",
       "      <th>age</th>\n",
       "      <th>sex_cd</th>\n",
       "      <th>descent_cd</th>\n",
       "      <th>...</th>\n",
       "      <th>lat</th>\n",
       "      <th>lon</th>\n",
       "      <th>location_1</th>\n",
       "      <th>bkg_date</th>\n",
       "      <th>bkg_time</th>\n",
       "      <th>bgk_location</th>\n",
       "      <th>bkg_loc_cd</th>\n",
       "      <th>chrg_desc</th>\n",
       "      <th>chrg_grp_cd</th>\n",
       "      <th>grp_description</th>\n",
       "    </tr>\n",
       "  </thead>\n",
       "  <tbody>\n",
       "    <tr>\n",
       "      <th>0</th>\n",
       "      <td>190129845</td>\n",
       "      <td>RFC</td>\n",
       "      <td>2019-12-11</td>\n",
       "      <td>1510</td>\n",
       "      <td>01</td>\n",
       "      <td>Central</td>\n",
       "      <td>0152</td>\n",
       "      <td>24</td>\n",
       "      <td>M</td>\n",
       "      <td>H</td>\n",
       "      <td>...</td>\n",
       "      <td>34.0489</td>\n",
       "      <td>-118.2519</td>\n",
       "      <td>{'type': 'Point', 'coordinates': [-118.2519, 3...</td>\n",
       "      <td>NaN</td>\n",
       "      <td>NaN</td>\n",
       "      <td>NaN</td>\n",
       "      <td>NaN</td>\n",
       "      <td>NaN</td>\n",
       "      <td>NaN</td>\n",
       "      <td>NaN</td>\n",
       "    </tr>\n",
       "    <tr>\n",
       "      <th>1</th>\n",
       "      <td>191425299</td>\n",
       "      <td>RFC</td>\n",
       "      <td>2019-12-11</td>\n",
       "      <td>1430</td>\n",
       "      <td>14</td>\n",
       "      <td>Pacific</td>\n",
       "      <td>1409</td>\n",
       "      <td>24</td>\n",
       "      <td>F</td>\n",
       "      <td>H</td>\n",
       "      <td>...</td>\n",
       "      <td>34.0249</td>\n",
       "      <td>-118.3959</td>\n",
       "      <td>{'type': 'Point', 'coordinates': [-118.3959, 3...</td>\n",
       "      <td>NaN</td>\n",
       "      <td>NaN</td>\n",
       "      <td>NaN</td>\n",
       "      <td>NaN</td>\n",
       "      <td>NaN</td>\n",
       "      <td>NaN</td>\n",
       "      <td>NaN</td>\n",
       "    </tr>\n",
       "    <tr>\n",
       "      <th>2</th>\n",
       "      <td>190129848</td>\n",
       "      <td>RFC</td>\n",
       "      <td>2019-12-11</td>\n",
       "      <td>0950</td>\n",
       "      <td>01</td>\n",
       "      <td>Central</td>\n",
       "      <td>0138</td>\n",
       "      <td>59</td>\n",
       "      <td>M</td>\n",
       "      <td>B</td>\n",
       "      <td>...</td>\n",
       "      <td>34.0468</td>\n",
       "      <td>-118.2415</td>\n",
       "      <td>{'type': 'Point', 'coordinates': [-118.2415, 3...</td>\n",
       "      <td>NaN</td>\n",
       "      <td>NaN</td>\n",
       "      <td>NaN</td>\n",
       "      <td>NaN</td>\n",
       "      <td>NaN</td>\n",
       "      <td>NaN</td>\n",
       "      <td>NaN</td>\n",
       "    </tr>\n",
       "    <tr>\n",
       "      <th>3</th>\n",
       "      <td>191425300</td>\n",
       "      <td>RFC</td>\n",
       "      <td>2019-12-11</td>\n",
       "      <td>1430</td>\n",
       "      <td>14</td>\n",
       "      <td>Pacific</td>\n",
       "      <td>1409</td>\n",
       "      <td>23</td>\n",
       "      <td>F</td>\n",
       "      <td>W</td>\n",
       "      <td>...</td>\n",
       "      <td>34.0249</td>\n",
       "      <td>-118.3959</td>\n",
       "      <td>{'type': 'Point', 'coordinates': [-118.3959, 3...</td>\n",
       "      <td>NaN</td>\n",
       "      <td>NaN</td>\n",
       "      <td>NaN</td>\n",
       "      <td>NaN</td>\n",
       "      <td>NaN</td>\n",
       "      <td>NaN</td>\n",
       "      <td>NaN</td>\n",
       "    </tr>\n",
       "    <tr>\n",
       "      <th>4</th>\n",
       "      <td>190129844</td>\n",
       "      <td>RFC</td>\n",
       "      <td>2019-12-11</td>\n",
       "      <td>1450</td>\n",
       "      <td>01</td>\n",
       "      <td>Central</td>\n",
       "      <td>0152</td>\n",
       "      <td>43</td>\n",
       "      <td>M</td>\n",
       "      <td>B</td>\n",
       "      <td>...</td>\n",
       "      <td>34.0489</td>\n",
       "      <td>-118.2519</td>\n",
       "      <td>{'type': 'Point', 'coordinates': [-118.2519, 3...</td>\n",
       "      <td>NaN</td>\n",
       "      <td>NaN</td>\n",
       "      <td>NaN</td>\n",
       "      <td>NaN</td>\n",
       "      <td>NaN</td>\n",
       "      <td>NaN</td>\n",
       "      <td>NaN</td>\n",
       "    </tr>\n",
       "  </tbody>\n",
       "</table>\n",
       "<p>5 rows × 25 columns</p>\n",
       "</div>"
      ],
      "text/plain": [
       "      rpt_id report_type  arst_date  time area area_desc    rd  age sex_cd  \\\n",
       "0  190129845         RFC 2019-12-11  1510   01   Central  0152   24      M   \n",
       "1  191425299         RFC 2019-12-11  1430   14   Pacific  1409   24      F   \n",
       "2  190129848         RFC 2019-12-11  0950   01   Central  0138   59      M   \n",
       "3  191425300         RFC 2019-12-11  1430   14   Pacific  1409   23      F   \n",
       "4  190129844         RFC 2019-12-11  1450   01   Central  0152   43      M   \n",
       "\n",
       "  descent_cd  ...      lat        lon  \\\n",
       "0          H  ...  34.0489  -118.2519   \n",
       "1          H  ...  34.0249  -118.3959   \n",
       "2          B  ...  34.0468  -118.2415   \n",
       "3          W  ...  34.0249  -118.3959   \n",
       "4          B  ...  34.0489  -118.2519   \n",
       "\n",
       "                                          location_1 bkg_date bkg_time  \\\n",
       "0  {'type': 'Point', 'coordinates': [-118.2519, 3...      NaN      NaN   \n",
       "1  {'type': 'Point', 'coordinates': [-118.3959, 3...      NaN      NaN   \n",
       "2  {'type': 'Point', 'coordinates': [-118.2415, 3...      NaN      NaN   \n",
       "3  {'type': 'Point', 'coordinates': [-118.3959, 3...      NaN      NaN   \n",
       "4  {'type': 'Point', 'coordinates': [-118.2519, 3...      NaN      NaN   \n",
       "\n",
       "  bgk_location bkg_loc_cd chrg_desc chrg_grp_cd grp_description  \n",
       "0          NaN        NaN       NaN         NaN             NaN  \n",
       "1          NaN        NaN       NaN         NaN             NaN  \n",
       "2          NaN        NaN       NaN         NaN             NaN  \n",
       "3          NaN        NaN       NaN         NaN             NaN  \n",
       "4          NaN        NaN       NaN         NaN             NaN  \n",
       "\n",
       "[5 rows x 25 columns]"
      ]
     },
     "execution_count": 5,
     "metadata": {},
     "output_type": "execute_result"
    }
   ],
   "source": [
    "from datetime import datetime\n",
    "\n",
    "df = pd.DataFrame.from_records(results)\n",
    "df['arst_date'] = pd.to_datetime(df['arst_date'])\n",
    "# df['hour'] = df['time'].apply(lambda x: datetime.strptime(x, '%H%M').time().hour)\n",
    "#df['month'] = df['arst_date'].apply(lambda x: datetime.strptime(x, '%Y%m').time())\n",
    "df['age'] = pd.to_numeric(df['age'])\n",
    "df.head()"
   ]
  },
  {
   "cell_type": "code",
   "execution_count": 7,
   "metadata": {},
   "outputs": [
    {
     "data": {
      "text/plain": [
       "0       {'type': 'Point', 'coordinates': [-118.2519, 3...\n",
       "1       {'type': 'Point', 'coordinates': [-118.3959, 3...\n",
       "2       {'type': 'Point', 'coordinates': [-118.2415, 3...\n",
       "3       {'type': 'Point', 'coordinates': [-118.3959, 3...\n",
       "4       {'type': 'Point', 'coordinates': [-118.2519, 3...\n",
       "                              ...                        \n",
       "2670    {'type': 'Point', 'coordinates': [-118.4789, 3...\n",
       "2671    {'type': 'Point', 'coordinates': [-118.2035, 3...\n",
       "2672    {'type': 'Point', 'coordinates': [-118.6233, 3...\n",
       "2673    {'type': 'Point', 'coordinates': [-118.4052, 3...\n",
       "2674    {'type': 'Point', 'coordinates': [-118.4465, 3...\n",
       "Name: location_1, Length: 2675, dtype: object"
      ]
     },
     "execution_count": 7,
     "metadata": {},
     "output_type": "execute_result"
    }
   ],
   "source": [
    "df['location_1']"
   ]
  },
  {
   "cell_type": "markdown",
   "metadata": {},
   "source": [
    "## 3. Upsert MongoDB         \n",
    "To avoid duplicate data entries between each run, the de-duplication mechanism makes sure that only a new record with a different report_id (rpt_id) will be inserted to the database. "
   ]
  },
  {
   "cell_type": "code",
   "execution_count": 30,
   "metadata": {},
   "outputs": [],
   "source": [
    "import pymongo\n",
    "client = pymongo.MongoClient()"
   ]
  },
  {
   "cell_type": "code",
   "execution_count": 33,
   "metadata": {
    "scrolled": true
   },
   "outputs": [
    {
     "name": "stdout",
     "output_type": "stream",
     "text": [
      "rows=495, update=495, insert=0\n"
     ]
    }
   ],
   "source": [
    "#import time\n",
    "db = client.get_database(\"crime\")\n",
    "collection = db.get_collection(\"crime\")\n",
    "update_count = 0\n",
    "count = 0\n",
    "for record in df.to_dict('records'):\n",
    "    #start = time.time()\n",
    "    result = collection.replace_one(\n",
    "        filter = {'rpt_id': record['rpt_id']},    # locate the document if exists\n",
    "        replacement = record,                         # latest document\n",
    "        upsert=True)\n",
    "    if result.matched_count > 0:\n",
    "        update_count += 1\n",
    "print(f\"rows={df.shape[0]}, update={update_count}, \"\n",
    "      f\"insert={df.shape[0]-update_count}\")"
   ]
  }
 ],
 "metadata": {
  "kernelspec": {
   "display_name": "Python 3",
   "language": "python",
   "name": "python3"
  },
  "language_info": {
   "codemirror_mode": {
    "name": "ipython",
    "version": 3
   },
   "file_extension": ".py",
   "mimetype": "text/x-python",
   "name": "python",
   "nbconvert_exporter": "python",
   "pygments_lexer": "ipython3",
   "version": "3.7.3"
  }
 },
 "nbformat": 4,
 "nbformat_minor": 2
}
