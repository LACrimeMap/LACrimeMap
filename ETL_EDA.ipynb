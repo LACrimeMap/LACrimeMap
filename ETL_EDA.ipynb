{
 "cells": [
  {
   "cell_type": "markdown",
   "metadata": {},
   "source": [
    "# ETL_EDA    \n",
    "This file records the process of acquiring raw data, traforming them, and loading them into a MongoDB. The data are store (almost) in their raw form."
   ]
  },
  {
   "cell_type": "markdown",
   "metadata": {},
   "source": [
    "## 1. Raw Data from LAPD     \n",
    "The [dataset](https://data.lacity.org/A-Safe-City/Arrest-Data-from-2010-to-Present/yru6-6re4) is a continuously updated file in csv format. It contains City of Los Angeles arrest data from 2010 to present. It can be retrieved simply by making requests without parameters. For more complicated API call, you may need to add query parameters."
   ]
  },
  {
   "cell_type": "code",
   "execution_count": 4,
   "metadata": {},
   "outputs": [
    {
     "name": "stderr",
     "output_type": "stream",
     "text": [
      "WARNING:root:Requests made without an app_token will be subject to strict throttling limits.\n"
     ]
    },
    {
     "name": "stdout",
     "output_type": "stream",
     "text": [
      "[{'rpt_id': '191919936', 'arst_date': '2019-11-02T00:00:00.000', 'time': '1605', 'area': '19', 'area_desc': 'Mission', 'rd': '1972', 'age': '62', 'sex_cd': 'M', 'descent_cd': 'W', 'chrg_grp_cd': '06', 'grp_description': 'Larceny', 'arst_typ_cd': 'M', 'charge': '490.1PC', 'chrg_desc': 'PETTY THEFT UNDER $50.00', 'location': '9000    SEPULVEDA                    BL', 'location_1': {'latitude': '34.2337', 'longitude': '-118.4676', 'human_address': '{\"address\": \"\", \"city\": \"\", \"state\": \"\", \"zip\": \"\"}'}}, {'rpt_id': '5789339', 'arst_date': '2019-11-02T00:00:00.000', 'time': '2300', 'area': '18', 'area_desc': 'Southeast', 'rd': '1842', 'age': '18', 'sex_cd': 'M', 'descent_cd': 'B', 'chrg_grp_cd': '12', 'grp_description': 'Weapon (carry/poss)', 'arst_typ_cd': 'F', 'charge': '25850(A)PC', 'chrg_desc': 'CARRY LOADED F/ARM PRSON/HEH PUBLIC PLACE', 'location': '400 W  111TH                        ST', 'location_1': {'latitude': '33.9348', 'longitude': '-118.2811', 'human_address': '{\"address\": \"\", \"city\": \"\", \"state\": \"\", \"zip\": \"\"}'}}]\n",
      "...\n",
      "[{'rpt_id': '5816871', 'arst_date': '2019-12-07T00:00:00.000', 'time': '0650', 'area': '01', 'area_desc': 'Central', 'rd': '0119', 'age': '31', 'sex_cd': 'M', 'descent_cd': 'B', 'chrg_grp_cd': '16', 'grp_description': 'Narcotic Drug Laws', 'arst_typ_cd': 'M', 'charge': '11377(A)HS', 'chrg_desc': 'POSSESSION CONTROLLED SUBSTANCE', 'location': '800 N  ALAMEDA                      ST', 'location_1': {'latitude': '34.0563', 'longitude': '-118.2374', 'human_address': '{\"address\": \"\", \"city\": \"\", \"state\": \"\", \"zip\": \"\"}'}}, {'rpt_id': '5816829', 'arst_date': '2019-12-07T00:00:00.000', 'time': '0354', 'area': '01', 'area_desc': 'Central', 'rd': '0135', 'age': '55', 'sex_cd': 'F', 'descent_cd': 'B', 'chrg_grp_cd': '22', 'grp_description': 'Driving Under Influence', 'arst_typ_cd': 'M', 'charge': '23152(A)VC', 'chrg_desc': 'DRUNK DRIVING ALCOHOL/DRUGS', 'location': '10                           FY', 'crsst': '51ST                         ST', 'location_1': {'latitude': '34.0495', 'longitude': '-118.2458', 'human_address': '{\"address\": \"\", \"city\": \"\", \"state\": \"\", \"zip\": \"\"}'}}]\n"
     ]
    }
   ],
   "source": [
    "import logging\n",
    "import pandas as pd\n",
    "from sodapy import Socrata\n",
    "import utils\n",
    "\n",
    "# download data\n",
    "CRIME_SOURCE = \"data.lacity.org\"\n",
    "client0 = Socrata(CRIME_SOURCE, None)\n",
    "results = client0.get(\"yru6-6re4\",where=\"arst_date > '2018-12-01T00:00:00.000'\",limit = 1000000) # wait to be confirmed\n",
    "print(results[:2])\n",
    "print('...')\n",
    "print(results[-2:])"
   ]
  },
  {
   "cell_type": "markdown",
   "metadata": {},
   "source": [
    "## 2. Raw Data to Documents/Dicts      \n",
    "Datetime conversion is made and age column is changed to numeric data type. Now the data can be easily converted to a list of dicts which is what we want for the MongoDB."
   ]
  },
  {
   "cell_type": "code",
   "execution_count": 5,
   "metadata": {},
   "outputs": [
    {
     "data": {
      "text/html": [
       "<div>\n",
       "<style scoped>\n",
       "    .dataframe tbody tr th:only-of-type {\n",
       "        vertical-align: middle;\n",
       "    }\n",
       "\n",
       "    .dataframe tbody tr th {\n",
       "        vertical-align: top;\n",
       "    }\n",
       "\n",
       "    .dataframe thead th {\n",
       "        text-align: right;\n",
       "    }\n",
       "</style>\n",
       "<table border=\"1\" class=\"dataframe\">\n",
       "  <thead>\n",
       "    <tr style=\"text-align: right;\">\n",
       "      <th></th>\n",
       "      <th>rpt_id</th>\n",
       "      <th>arst_date</th>\n",
       "      <th>time</th>\n",
       "      <th>area</th>\n",
       "      <th>area_desc</th>\n",
       "      <th>rd</th>\n",
       "      <th>age</th>\n",
       "      <th>sex_cd</th>\n",
       "      <th>descent_cd</th>\n",
       "      <th>chrg_grp_cd</th>\n",
       "      <th>grp_description</th>\n",
       "      <th>arst_typ_cd</th>\n",
       "      <th>charge</th>\n",
       "      <th>chrg_desc</th>\n",
       "      <th>location</th>\n",
       "      <th>location_1</th>\n",
       "      <th>crsst</th>\n",
       "      <th>hour</th>\n",
       "    </tr>\n",
       "  </thead>\n",
       "  <tbody>\n",
       "    <tr>\n",
       "      <th>0</th>\n",
       "      <td>191919936</td>\n",
       "      <td>2019-11-02</td>\n",
       "      <td>1605</td>\n",
       "      <td>19</td>\n",
       "      <td>Mission</td>\n",
       "      <td>1972</td>\n",
       "      <td>62</td>\n",
       "      <td>M</td>\n",
       "      <td>W</td>\n",
       "      <td>06</td>\n",
       "      <td>Larceny</td>\n",
       "      <td>M</td>\n",
       "      <td>490.1PC</td>\n",
       "      <td>PETTY THEFT UNDER $50.00</td>\n",
       "      <td>9000    SEPULVEDA                    BL</td>\n",
       "      <td>{'latitude': '34.2337', 'longitude': '-118.467...</td>\n",
       "      <td>NaN</td>\n",
       "      <td>16</td>\n",
       "    </tr>\n",
       "    <tr>\n",
       "      <th>1</th>\n",
       "      <td>5789339</td>\n",
       "      <td>2019-11-02</td>\n",
       "      <td>2300</td>\n",
       "      <td>18</td>\n",
       "      <td>Southeast</td>\n",
       "      <td>1842</td>\n",
       "      <td>18</td>\n",
       "      <td>M</td>\n",
       "      <td>B</td>\n",
       "      <td>12</td>\n",
       "      <td>Weapon (carry/poss)</td>\n",
       "      <td>F</td>\n",
       "      <td>25850(A)PC</td>\n",
       "      <td>CARRY LOADED F/ARM PRSON/HEH PUBLIC PLACE</td>\n",
       "      <td>400 W  111TH                        ST</td>\n",
       "      <td>{'latitude': '33.9348', 'longitude': '-118.281...</td>\n",
       "      <td>NaN</td>\n",
       "      <td>23</td>\n",
       "    </tr>\n",
       "    <tr>\n",
       "      <th>2</th>\n",
       "      <td>5789301</td>\n",
       "      <td>2019-11-02</td>\n",
       "      <td>2125</td>\n",
       "      <td>18</td>\n",
       "      <td>Southeast</td>\n",
       "      <td>1823</td>\n",
       "      <td>28</td>\n",
       "      <td>M</td>\n",
       "      <td>H</td>\n",
       "      <td>24</td>\n",
       "      <td>Miscellaneous Other Violations</td>\n",
       "      <td>F</td>\n",
       "      <td>236PC</td>\n",
       "      <td>FALSE IMPRISONMENT</td>\n",
       "      <td>400 E  93RD                         ST</td>\n",
       "      <td>{'latitude': '33.952', 'longitude': '-118.2673...</td>\n",
       "      <td>NaN</td>\n",
       "      <td>21</td>\n",
       "    </tr>\n",
       "    <tr>\n",
       "      <th>3</th>\n",
       "      <td>5789240</td>\n",
       "      <td>2019-11-02</td>\n",
       "      <td>1400</td>\n",
       "      <td>03</td>\n",
       "      <td>Southwest</td>\n",
       "      <td>0357</td>\n",
       "      <td>52</td>\n",
       "      <td>M</td>\n",
       "      <td>B</td>\n",
       "      <td>08</td>\n",
       "      <td>Other Assaults</td>\n",
       "      <td>F</td>\n",
       "      <td>243(C)(2)PC</td>\n",
       "      <td>BATTERY ON PEACE OFFICER</td>\n",
       "      <td>1100    EXPOSITION                   BL</td>\n",
       "      <td>{'latitude': '34.0219', 'longitude': '-118.295...</td>\n",
       "      <td>NaN</td>\n",
       "      <td>14</td>\n",
       "    </tr>\n",
       "    <tr>\n",
       "      <th>4</th>\n",
       "      <td>5789096</td>\n",
       "      <td>2019-11-02</td>\n",
       "      <td>1500</td>\n",
       "      <td>21</td>\n",
       "      <td>Topanga</td>\n",
       "      <td>2126</td>\n",
       "      <td>19</td>\n",
       "      <td>M</td>\n",
       "      <td>W</td>\n",
       "      <td>08</td>\n",
       "      <td>Other Assaults</td>\n",
       "      <td>F</td>\n",
       "      <td>422(A)PC</td>\n",
       "      <td>TERRORIZE CAUSING FEAR</td>\n",
       "      <td>7800    DE SOTO                      AV</td>\n",
       "      <td>{'latitude': '34.212', 'longitude': '-118.5885...</td>\n",
       "      <td>NaN</td>\n",
       "      <td>15</td>\n",
       "    </tr>\n",
       "  </tbody>\n",
       "</table>\n",
       "</div>"
      ],
      "text/plain": [
       "      rpt_id  arst_date  time area  area_desc    rd  age sex_cd descent_cd  \\\n",
       "0  191919936 2019-11-02  1605   19    Mission  1972   62      M          W   \n",
       "1    5789339 2019-11-02  2300   18  Southeast  1842   18      M          B   \n",
       "2    5789301 2019-11-02  2125   18  Southeast  1823   28      M          H   \n",
       "3    5789240 2019-11-02  1400   03  Southwest  0357   52      M          B   \n",
       "4    5789096 2019-11-02  1500   21    Topanga  2126   19      M          W   \n",
       "\n",
       "  chrg_grp_cd                 grp_description arst_typ_cd       charge  \\\n",
       "0          06                         Larceny           M      490.1PC   \n",
       "1          12             Weapon (carry/poss)           F   25850(A)PC   \n",
       "2          24  Miscellaneous Other Violations           F        236PC   \n",
       "3          08                  Other Assaults           F  243(C)(2)PC   \n",
       "4          08                  Other Assaults           F     422(A)PC   \n",
       "\n",
       "                                   chrg_desc  \\\n",
       "0                   PETTY THEFT UNDER $50.00   \n",
       "1  CARRY LOADED F/ARM PRSON/HEH PUBLIC PLACE   \n",
       "2                         FALSE IMPRISONMENT   \n",
       "3                   BATTERY ON PEACE OFFICER   \n",
       "4                     TERRORIZE CAUSING FEAR   \n",
       "\n",
       "                                  location  \\\n",
       "0  9000    SEPULVEDA                    BL   \n",
       "1   400 W  111TH                        ST   \n",
       "2   400 E  93RD                         ST   \n",
       "3  1100    EXPOSITION                   BL   \n",
       "4  7800    DE SOTO                      AV   \n",
       "\n",
       "                                          location_1 crsst  hour  \n",
       "0  {'latitude': '34.2337', 'longitude': '-118.467...   NaN    16  \n",
       "1  {'latitude': '33.9348', 'longitude': '-118.281...   NaN    23  \n",
       "2  {'latitude': '33.952', 'longitude': '-118.2673...   NaN    21  \n",
       "3  {'latitude': '34.0219', 'longitude': '-118.295...   NaN    14  \n",
       "4  {'latitude': '34.212', 'longitude': '-118.5885...   NaN    15  "
      ]
     },
     "execution_count": 5,
     "metadata": {},
     "output_type": "execute_result"
    }
   ],
   "source": [
    "from datetime import datetime\n",
    "\n",
    "df = pd.DataFrame.from_records(results)\n",
    "df['arst_date'] = pd.to_datetime(df['arst_date'])\n",
    "df['hour'] = df['time'].apply(lambda x: datetime.strptime(x, '%H%M').time().hour)\n",
    "df['age'] = pd.to_numeric(df['age'])\n",
    "\n",
    "df.head()"
   ]
  },
  {
   "cell_type": "markdown",
   "metadata": {},
   "source": [
    "## 3. Upsert MongoDB         \n",
    "To avoid duplicate data entries between each run, the de-duplication mechanism makes sure that only a new record with a different report_id (rpt_id) will be inserted to the database. "
   ]
  },
  {
   "cell_type": "code",
   "execution_count": 6,
   "metadata": {},
   "outputs": [
    {
     "name": "stdout",
     "output_type": "stream",
     "text": [
      "rows=7349, update=7349, insert=0\n"
     ]
    }
   ],
   "source": [
    "import pymongo\n",
    "client = pymongo.MongoClient()\n",
    "db = client.get_database(\"crime\")\n",
    "collection = db.get_collection(\"crime\")\n",
    "update_count = 0\n",
    "for record in df.to_dict('records'):\n",
    "    result = collection.replace_one(\n",
    "        filter = {'rpt_id': record['rpt_id']},    # locate the document if exists\n",
    "        replacement = record,                         # latest document\n",
    "        upsert=True)\n",
    "    if result.matched_count > 0:\n",
    "        update_count += 1\n",
    "print(f\"rows={df.shape[0]}, update={update_count}, \"\n",
    "      f\"insert={df.shape[0]-update_count}\")"
   ]
  },
  {
   "cell_type": "code",
   "execution_count": null,
   "metadata": {},
   "outputs": [],
   "source": []
  }
 ],
 "metadata": {
  "kernelspec": {
   "display_name": "Python 3",
   "language": "python",
   "name": "python3"
  },
  "language_info": {
   "codemirror_mode": {
    "name": "ipython",
    "version": 3
   },
   "file_extension": ".py",
   "mimetype": "text/x-python",
   "name": "python",
   "nbconvert_exporter": "python",
   "pygments_lexer": "ipython3",
   "version": "3.7.4"
  }
 },
 "nbformat": 4,
 "nbformat_minor": 2
}
