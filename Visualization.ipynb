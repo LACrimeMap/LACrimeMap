{
 "cells": [
  {
   "cell_type": "markdown",
   "metadata": {},
   "source": [
    "# Visualization     \n",
    "## 1. Retrieve Data from MongoDB     \n",
    "Retrieve all documents from MongoDB and convert it to a pandas dataframe."
   ]
  },
  {
   "cell_type": "code",
   "execution_count": 3,
   "metadata": {},
   "outputs": [],
   "source": [
    "import pymongo\n",
    "client = pymongo.MongoClient()"
   ]
  },
  {
   "cell_type": "code",
   "execution_count": 6,
   "metadata": {},
   "outputs": [
    {
     "name": "stdout",
     "output_type": "stream",
     "text": [
      "      rpt_id                arst_date  time area    area_desc    rd age  \\\n",
      "0    5811793  2019-12-01T00:00:00.000  0311   15  N Hollywood  1565  26   \n",
      "1    5811921  2019-12-01T00:00:00.000  0300   13       Newton  1307  21   \n",
      "2    5812227  2019-12-01T00:00:00.000  1540   13       Newton  1362  28   \n",
      "3  190920652  2019-12-01T00:00:00.000  0225   09     Van Nuys  0914  45   \n",
      "4    5812327  2019-12-01T00:00:00.000  2015   06    Hollywood  0646  39   \n",
      "\n",
      "  sex_cd descent_cd chrg_grp_cd          grp_description arst_typ_cd  \\\n",
      "0      M          H          22  Driving Under Influence           M   \n",
      "1      M          B          04       Aggravated Assault           F   \n",
      "2      M          B          05                 Burglary           F   \n",
      "3      M          H          13      Prostitution/Allied           M   \n",
      "4      M          B          03                  Robbery           F   \n",
      "\n",
      "        charge                           chrg_desc  \\\n",
      "0   23152(A)VC         DRUNK DRIVING ALCOHOL/DRUGS   \n",
      "1  245(D)(1)PC  ASSAULT W/FIREARM ON PO OR FIREMAN   \n",
      "2        459PC                            BURGLARY   \n",
      "3  647(B)(2)PC    ENGAGE/SOLICIT SEX FOR MONEY/ETC   \n",
      "4        211PC                             ROBBERY   \n",
      "\n",
      "                                 location                            crsst  \\\n",
      "0         VINELAND                     AV  HOLLYWOOD                    FY   \n",
      "1  700    CROCKER                      ST                              NaN   \n",
      "2  400 E  49TH                         ST                              NaN   \n",
      "3         SEPULVEDA                    BL  HART                         ST   \n",
      "4                                   COSMO  HOLLYWOOD                    BL   \n",
      "\n",
      "                                          location_1  \n",
      "0  {'latitude': '34.1468', 'longitude': '-118.370...  \n",
      "1  {'latitude': '34.0401', 'longitude': '-118.245...  \n",
      "2  {'latitude': '33.9988', 'longitude': '-118.269...  \n",
      "3  {'latitude': '34.1976', 'longitude': '-118.466...  \n",
      "4  {'latitude': '34.1016', 'longitude': '-118.328...  \n",
      "<class 'pandas.core.frame.DataFrame'>\n",
      "RangeIndex: 990 entries, 0 to 989\n",
      "Data columns (total 17 columns):\n",
      "rpt_id             990 non-null object\n",
      "arst_date          990 non-null object\n",
      "time               990 non-null object\n",
      "area               990 non-null object\n",
      "area_desc          990 non-null object\n",
      "rd                 990 non-null object\n",
      "age                990 non-null object\n",
      "sex_cd             990 non-null object\n",
      "descent_cd         990 non-null object\n",
      "chrg_grp_cd        930 non-null object\n",
      "grp_description    930 non-null object\n",
      "arst_typ_cd        990 non-null object\n",
      "charge             990 non-null object\n",
      "chrg_desc          937 non-null object\n",
      "location           990 non-null object\n",
      "crsst              485 non-null object\n",
      "location_1         990 non-null object\n",
      "dtypes: object(17)\n",
      "memory usage: 131.6+ KB\n",
      "None\n"
     ]
    }
   ],
   "source": [
    "import pandas as pd\n",
    "\n",
    "db = client.get_database(\"crime\")\n",
    "collection = db.get_collection(\"crime\")\n",
    "data = list(collection.find())\n",
    "df = pd.DataFrame.from_records(data)    \n",
    "df.drop('_id', axis=1, inplace=True)\n",
    "print(df.head())\n",
    "print(df.info())"
   ]
  },
  {
   "cell_type": "markdown",
   "metadata": {},
   "source": [
    "## 2. Visualization with Plot.ly: Line Plots (stacked / unstacked)       \n",
    "The function below creates a plotly.graph_objects with a few Scatter plots added. A figure is initialized with go.Figure(). This function works in a Notebook as well as dash app! Most of them are just line plots. If a stackgroup is provided, plotly automatically stack up a few series."
   ]
  },
  {
   "cell_type": "code",
   "execution_count": null,
   "metadata": {},
   "outputs": [],
   "source": []
  }
 ],
 "metadata": {
  "kernelspec": {
   "display_name": "Python 3",
   "language": "python",
   "name": "python3"
  },
  "language_info": {
   "codemirror_mode": {
    "name": "ipython",
    "version": 3
   },
   "file_extension": ".py",
   "mimetype": "text/x-python",
   "name": "python",
   "nbconvert_exporter": "python",
   "pygments_lexer": "ipython3",
   "version": "3.7.4"
  }
 },
 "nbformat": 4,
 "nbformat_minor": 4
}
