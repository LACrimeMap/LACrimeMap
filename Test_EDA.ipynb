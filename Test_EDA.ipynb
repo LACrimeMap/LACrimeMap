{
 "cells": [
  {
   "cell_type": "code",
   "execution_count": 11,
   "metadata": {},
   "outputs": [],
   "source": [
    "import requests\n",
    "\n",
    "url = \"https://transmission.bpa.gov/business/operations/Wind/baltwg.txt\"\n",
    "req = requests.get(url, timeout=0.5)\n",
    "req.raise_for_status()\n",
    "text = req.text"
   ]
  },
  {
   "cell_type": "code",
   "execution_count": 13,
   "metadata": {},
   "outputs": [
    {
     "data": {
      "text/html": [
       "<div>\n",
       "<style scoped>\n",
       "    .dataframe tbody tr th:only-of-type {\n",
       "        vertical-align: middle;\n",
       "    }\n",
       "\n",
       "    .dataframe tbody tr th {\n",
       "        vertical-align: top;\n",
       "    }\n",
       "\n",
       "    .dataframe thead th {\n",
       "        text-align: right;\n",
       "    }\n",
       "</style>\n",
       "<table border=\"1\" class=\"dataframe\">\n",
       "  <thead>\n",
       "    <tr style=\"text-align: right;\">\n",
       "      <th></th>\n",
       "      <th>Date/Time</th>\n",
       "      <th>Load</th>\n",
       "      <th>Wind</th>\n",
       "      <th>Hydro</th>\n",
       "      <th>Fossil/Biomass</th>\n",
       "      <th>Nuclear</th>\n",
       "      <th>Datetime</th>\n",
       "    </tr>\n",
       "  </thead>\n",
       "  <tbody>\n",
       "    <tr>\n",
       "      <th>0</th>\n",
       "      <td>12/08/2019 00:00</td>\n",
       "      <td>5626.0</td>\n",
       "      <td>77.0</td>\n",
       "      <td>5923.0</td>\n",
       "      <td>1134.0</td>\n",
       "      <td>1164.0</td>\n",
       "      <td>2019-12-08 00:00:00</td>\n",
       "    </tr>\n",
       "    <tr>\n",
       "      <th>1</th>\n",
       "      <td>12/08/2019 00:05</td>\n",
       "      <td>5596.0</td>\n",
       "      <td>88.0</td>\n",
       "      <td>5743.0</td>\n",
       "      <td>1162.0</td>\n",
       "      <td>1166.0</td>\n",
       "      <td>2019-12-08 00:05:00</td>\n",
       "    </tr>\n",
       "    <tr>\n",
       "      <th>2</th>\n",
       "      <td>12/08/2019 00:10</td>\n",
       "      <td>5583.0</td>\n",
       "      <td>94.0</td>\n",
       "      <td>5455.0</td>\n",
       "      <td>1183.0</td>\n",
       "      <td>1165.0</td>\n",
       "      <td>2019-12-08 00:10:00</td>\n",
       "    </tr>\n",
       "    <tr>\n",
       "      <th>3</th>\n",
       "      <td>12/08/2019 00:15</td>\n",
       "      <td>5596.0</td>\n",
       "      <td>86.0</td>\n",
       "      <td>5354.0</td>\n",
       "      <td>1190.0</td>\n",
       "      <td>1165.0</td>\n",
       "      <td>2019-12-08 00:15:00</td>\n",
       "    </tr>\n",
       "    <tr>\n",
       "      <th>4</th>\n",
       "      <td>12/08/2019 00:20</td>\n",
       "      <td>5571.0</td>\n",
       "      <td>96.0</td>\n",
       "      <td>5289.0</td>\n",
       "      <td>1199.0</td>\n",
       "      <td>1167.0</td>\n",
       "      <td>2019-12-08 00:20:00</td>\n",
       "    </tr>\n",
       "  </tbody>\n",
       "</table>\n",
       "</div>"
      ],
      "text/plain": [
       "          Date/Time    Load  Wind   Hydro  Fossil/Biomass  Nuclear  \\\n",
       "0  12/08/2019 00:00  5626.0  77.0  5923.0          1134.0   1164.0   \n",
       "1  12/08/2019 00:05  5596.0  88.0  5743.0          1162.0   1166.0   \n",
       "2  12/08/2019 00:10  5583.0  94.0  5455.0          1183.0   1165.0   \n",
       "3  12/08/2019 00:15  5596.0  86.0  5354.0          1190.0   1165.0   \n",
       "4  12/08/2019 00:20  5571.0  96.0  5289.0          1199.0   1167.0   \n",
       "\n",
       "             Datetime  \n",
       "0 2019-12-08 00:00:00  \n",
       "1 2019-12-08 00:05:00  \n",
       "2 2019-12-08 00:10:00  \n",
       "3 2019-12-08 00:15:00  \n",
       "4 2019-12-08 00:20:00  "
      ]
     },
     "execution_count": 13,
     "metadata": {},
     "output_type": "execute_result"
    }
   ],
   "source": [
    "import pandas\n",
    "from io import StringIO\n",
    "\n",
    "df = pandas.read_csv(StringIO(text), skiprows=11, delimiter='\\t')\n",
    "df.columns = df.columns.str.strip()             # remove space in columns name\n",
    "df['Datetime'] = pandas.to_datetime(df['Date/Time'])\n",
    "df.drop(columns=['Date/Time'], axis=1, inplace=True)\n",
    "df.dropna(inplace=True)  \n",
    "df.head()"
   ]
  },
  {
   "cell_type": "code",
   "execution_count": 10,
   "metadata": {},
   "outputs": [
    {
     "name": "stdout",
     "output_type": "stream",
     "text": [
      "<class 'pandas.core.frame.DataFrame'>\n",
      "Int64Index: 1918 entries, 0 to 1918\n",
      "Data columns (total 6 columns):\n",
      "Load              1918 non-null float64\n",
      "Wind              1918 non-null float64\n",
      "Hydro             1918 non-null float64\n",
      "Fossil/Biomass    1918 non-null float64\n",
      "Nuclear           1918 non-null float64\n",
      "Datetime          1918 non-null datetime64[ns]\n",
      "dtypes: datetime64[ns](1), float64(5)\n",
      "memory usage: 104.9 KB\n"
     ]
    }
   ],
   "source": [
    "df.info()"
   ]
  },
  {
   "cell_type": "code",
   "execution_count": 8,
   "metadata": {},
   "outputs": [],
   "source": [
    "import pymongo\n",
    "\n",
    "client = pymongo.MongoClient()"
   ]
  },
  {
   "cell_type": "code",
   "execution_count": 9,
   "metadata": {},
   "outputs": [
    {
     "name": "stdout",
     "output_type": "stream",
     "text": [
      "rows=1918, update=1911, insert=7\n"
     ]
    }
   ],
   "source": [
    "db = client.get_database(\"energy\")\n",
    "collection = db.get_collection(\"energy\")\n",
    "update_count = 0\n",
    "for record in df.to_dict('records'):\n",
    "    result = collection.replace_one(\n",
    "        filter={'Datetime': record['Datetime']},    # locate the document if exists\n",
    "        replacement=record,                         # latest document\n",
    "        upsert=True)                                # update if exists, insert if not\n",
    "    if result.matched_count > 0:\n",
    "        update_count += 1\n",
    "print(f\"rows={df.shape[0]}, update={update_count}, \"\n",
    "      f\"insert={df.shape[0]-update_count}\")"
   ]
  },
  {
   "cell_type": "code",
   "execution_count": null,
   "metadata": {},
   "outputs": [],
   "source": []
  }
 ],
 "metadata": {
  "kernelspec": {
   "display_name": "Python 3",
   "language": "python",
   "name": "python3"
  },
  "language_info": {
   "codemirror_mode": {
    "name": "ipython",
    "version": 3
   },
   "file_extension": ".py",
   "mimetype": "text/x-python",
   "name": "python",
   "nbconvert_exporter": "python",
   "pygments_lexer": "ipython3",
   "version": "3.7.4"
  }
 },
 "nbformat": 4,
 "nbformat_minor": 2
}
